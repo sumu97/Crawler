{
 "cells": [
  {
   "cell_type": "markdown",
   "metadata": {},
   "source": [
    "# Mapping Table 1"
   ]
  },
  {
   "cell_type": "code",
   "execution_count": 39,
   "metadata": {},
   "outputs": [],
   "source": [
    "# 라이브러리 호출\n",
    "import pandas as pd\n",
    "\n",
    "# 데이터 불러오기\n",
    "dfp = pd.read_excel(\"Product_crawl_220803_touched.xlsx\")\n",
    "\n",
    "# 해당부분만 떼서 각 Index 별로 분배\n",
    "trend_list = []\n",
    "index_list = []\n",
    "for i in dfp.columns[27:-2]:\n",
    "    for l in range(len(dfp)):\n",
    "        if dfp[i][l] > 0:\n",
    "            index_list.append(dfp[dfp.columns[0]][l])\n",
    "            trend_list.append(i)\n",
    "\n",
    "# 데이터프레임 생성\n",
    "dfn = pd.DataFrame({'index' :index_list,\n",
    "                'trend':trend_list})\n",
    "\n",
    "# 데이터 Export\n",
    "dfn.sort_values(by='index').to_excel('trend_mapping.xlsx', index=False)\n"
   ]
  },
  {
   "cell_type": "markdown",
   "metadata": {},
   "source": [
    "# Mapping Table 2"
   ]
  },
  {
   "cell_type": "code",
   "execution_count": null,
   "metadata": {},
   "outputs": [],
   "source": [
    "# 데이터 불러오기 (사업 / 인구 )\n",
    "dfw = pd.read_excel(\"work.xlsx\")\n",
    "dfh = pd.read_excel(\"human.xlsx\")\n",
    "\n",
    "# 데이터 컬럼 정리\n",
    "dfh = dfh[['행정구역','2022년06월_계_총인구수']]\n",
    "dfw = dfw[['시도명','사업명']]\n",
    "\n",
    "# 데이터 전처리\n",
    "temp_list = []\n",
    "for i in dfh['행정구역']:\n",
    "    temp_list.append(i.split()[0])\n",
    "dfh['행정구역'] = temp_list\n",
    "\n",
    "# 시도별, 사업별 개수\n",
    "temp_list_1 = []\n",
    "temp_list_2 = []\n",
    "temp_list_3 = []\n",
    "for i in dfh['행정구역']: # 행정구역들\n",
    "    for l in dfw['사업명'].unique(): # 사업명 4개\n",
    "        temp = (dfw['시도명'] == i) & (dfw['사업명'] == l)\n",
    "        try:\n",
    "            temp_list_3.append(temp.value_counts()[1])\n",
    "        except:\n",
    "            temp_list_3.append(0)\n",
    "        temp_list_1.append(i)\n",
    "        temp_list_2.append(l)\n",
    "\n",
    "# 데이터프레임으로 생성\n",
    "df = pd.DataFrame({'시도명':temp_list_1,\n",
    "                    '사업명':temp_list_2,\n",
    "                    '사업수':temp_list_3})\n",
    "\n",
    "# 엑셀로 Export\n",
    "df.to_excel('trend_mapping_forU.xlsx', index=False)"
   ]
  },
  {
   "cell_type": "markdown",
   "metadata": {},
   "source": [
    "# EDA Table 1"
   ]
  },
  {
   "cell_type": "code",
   "execution_count": 110,
   "metadata": {},
   "outputs": [],
   "source": [
    "dfc = pd.read_excel(\"company_crawl_220803.xlsx\")\n",
    "import numpy as np\n",
    "temp_list = []\n",
    "for i in dfc['co_empl']:\n",
    "    try:\n",
    "        temp_list.append(i.replace(\"+\",\"\").replace(\",\",\"\").split()[0])\n",
    "    except:\n",
    "        temp_list.append(np.nan)\n",
    "dfc['co_empl'] = temp_list\n",
    "dfc.to_excel('bruh_output.xlsx')"
   ]
  },
  {
   "cell_type": "markdown",
   "metadata": {},
   "source": [
    "# EDA Table 2"
   ]
  },
  {
   "cell_type": "code",
   "execution_count": 2,
   "metadata": {},
   "outputs": [],
   "source": [
    "# 데이터 불러오기\n",
    "import pandas as pd\n",
    "dfp = pd.read_excel(\"Product_crawl_220803_touched.xlsx\")"
   ]
  },
  {
   "cell_type": "code",
   "execution_count": 6,
   "metadata": {},
   "outputs": [
    {
     "data": {
      "text/plain": [
       "Index(['index', 'pd_name', 'pd_link', 'pd_pric', 'pd_srch', 'pd_rank',\n",
       "       'pd_cat1', 'pd_cat2', 'pd_cat3', 'pd_cat4', 'pd_stoc', 'pd_cond',\n",
       "       'pd_brnd', 'pd_mpn', 'pd_upc', 'pd_cont', 'pd_modl', 'pd_type',\n",
       "       'pd_desc', 'desc_len', 'license', 'construct', 'green', 'category',\n",
       "       'garden', 'tf', 'tp', '친환경 · 에너지 효율  건축지원', '독일 스프링클러 기술표준',\n",
       "       'VDS(독일 보험협회) 소방인증', 'NFPA 13 설치표준', 'UL 소방인증', '친환경 소화제',\n",
       "       '물안개 소화 시스템 (Water mist extinguishing systems)', '부식방지 폴리머 강화 파이프',\n",
       "       '인공지능 소화 시스템', '산소감소 소화 시스템', '준비작동식 스프링클러', '서리 방지 스프링클러 소화제',\n",
       "       '거품 소화 시스템', '분말 소화 시스템', '랙 장비 소화 시스템', '가스 소화 시스템', '스프링클러 부식 방지 기술',\n",
       "       '스프링클러 동결 방지 기술', '포탑 소화 시스템', '전자기기용 전구형 소화장치', '재활용 가능한 소방용품',\n",
       "       '소방호스 업사이클링', 'Trend Fitness', 'Trend Fit Point'],\n",
       "      dtype='object')"
      ]
     },
     "execution_count": 6,
     "metadata": {},
     "output_type": "execute_result"
    }
   ],
   "source": [
    "dfp.columns"
   ]
  },
  {
   "cell_type": "code",
   "execution_count": 11,
   "metadata": {},
   "outputs": [],
   "source": [
    "dfv = dfp[['index','pd_desc']]"
   ]
  },
  {
   "cell_type": "markdown",
   "metadata": {},
   "source": [
    "# Word2Vec"
   ]
  },
  {
   "cell_type": "code",
   "execution_count": 17,
   "metadata": {},
   "outputs": [],
   "source": [
    "import re\n",
    "import urllib.request\n",
    "import zipfile\n",
    "from lxml import etree\n",
    "from nltk.tokenize import word_tokenize, sent_tokenize"
   ]
  },
  {
   "cell_type": "code",
   "execution_count": 9,
   "metadata": {},
   "outputs": [
    {
     "data": {
      "text/html": [
       "<div>\n",
       "<style scoped>\n",
       "    .dataframe tbody tr th:only-of-type {\n",
       "        vertical-align: middle;\n",
       "    }\n",
       "\n",
       "    .dataframe tbody tr th {\n",
       "        vertical-align: top;\n",
       "    }\n",
       "\n",
       "    .dataframe thead th {\n",
       "        text-align: right;\n",
       "    }\n",
       "</style>\n",
       "<table border=\"1\" class=\"dataframe\">\n",
       "  <thead>\n",
       "    <tr style=\"text-align: right;\">\n",
       "      <th></th>\n",
       "      <th>index</th>\n",
       "      <th>pd_desc</th>\n",
       "    </tr>\n",
       "  </thead>\n",
       "  <tbody>\n",
       "    <tr>\n",
       "      <th>0</th>\n",
       "      <td>0</td>\n",
       "      <td>eBayVicflex Dry Sprinkler Style VS1-50? ? ? 50...</td>\n",
       "    </tr>\n",
       "    <tr>\n",
       "      <th>1</th>\n",
       "      <td>1</td>\n",
       "      <td>eBayNOS?(2)?Viking Pendent?155F?Brass Fire Spr...</td>\n",
       "    </tr>\n",
       "    <tr>\n",
       "      <th>2</th>\n",
       "      <td>2</td>\n",
       "      <td>eBayNOS165*F?Fusible Link?Brass Pendant?Fire S...</td>\n",
       "    </tr>\n",
       "    <tr>\n",
       "      <th>3</th>\n",
       "      <td>3</td>\n",
       "      <td>eBayRooftop Sprinkler Embers-Guard™Ember-S-gua...</td>\n",
       "    </tr>\n",
       "    <tr>\n",
       "      <th>4</th>\n",
       "      <td>4</td>\n",
       "      <td>eBayLot of 4 Antique Brass Fire Sprinkler Head...</td>\n",
       "    </tr>\n",
       "    <tr>\n",
       "      <th>...</th>\n",
       "      <td>...</td>\n",
       "      <td>...</td>\n",
       "    </tr>\n",
       "    <tr>\n",
       "      <th>12795</th>\n",
       "      <td>12797</td>\n",
       "      <td>eBayGarden Watering Nozzle Irrigation Lawn Osc...</td>\n",
       "    </tr>\n",
       "    <tr>\n",
       "      <th>12796</th>\n",
       "      <td>12798</td>\n",
       "      <td>eBay                                          ...</td>\n",
       "    </tr>\n",
       "    <tr>\n",
       "      <th>12797</th>\n",
       "      <td>12799</td>\n",
       "      <td>eBayGarden Watering Nozzle Irrigation Lawn Spr...</td>\n",
       "    </tr>\n",
       "    <tr>\n",
       "      <th>12798</th>\n",
       "      <td>12800</td>\n",
       "      <td>eBayProduct Description1PCS Long Distance Gard...</td>\n",
       "    </tr>\n",
       "    <tr>\n",
       "      <th>12799</th>\n",
       "      <td>12801</td>\n",
       "      <td>eBay                                          ...</td>\n",
       "    </tr>\n",
       "  </tbody>\n",
       "</table>\n",
       "<p>12800 rows × 2 columns</p>\n",
       "</div>"
      ],
      "text/plain": [
       "       index                                            pd_desc\n",
       "0          0  eBayVicflex Dry Sprinkler Style VS1-50? ? ? 50...\n",
       "1          1  eBayNOS?(2)?Viking Pendent?155F?Brass Fire Spr...\n",
       "2          2  eBayNOS165*F?Fusible Link?Brass Pendant?Fire S...\n",
       "3          3  eBayRooftop Sprinkler Embers-Guard™Ember-S-gua...\n",
       "4          4  eBayLot of 4 Antique Brass Fire Sprinkler Head...\n",
       "...      ...                                                ...\n",
       "12795  12797  eBayGarden Watering Nozzle Irrigation Lawn Osc...\n",
       "12796  12798  eBay                                          ...\n",
       "12797  12799  eBayGarden Watering Nozzle Irrigation Lawn Spr...\n",
       "12798  12800  eBayProduct Description1PCS Long Distance Gard...\n",
       "12799  12801  eBay                                          ...\n",
       "\n",
       "[12800 rows x 2 columns]"
      ]
     },
     "execution_count": 9,
     "metadata": {},
     "output_type": "execute_result"
    }
   ],
   "source": [
    "dfv"
   ]
  },
  {
   "cell_type": "code",
   "execution_count": 4,
   "metadata": {},
   "outputs": [
    {
     "name": "stderr",
     "output_type": "stream",
     "text": [
      "100%|██████████| 12800/12800 [00:52<00:00, 241.78it/s]\n"
     ]
    }
   ],
   "source": [
    "import re\n",
    "from tqdm import tqdm\n",
    "from nltk.tokenize import RegexpTokenizer\n",
    "from nltk.stem.porter import PorterStemmer\n",
    "from nltk.corpus import stopwords\n",
    "import numpy as np\n",
    "stop_word_eng = set(stopwords.words('english'))\n",
    "ps_stemmer = PorterStemmer()\n",
    "token = RegexpTokenizer('[\\w]+')\n",
    "tokenized = []\n",
    "\n",
    "for t in tqdm(dfv['pd_desc']):\n",
    "    try:\n",
    "        text = t.lower().split(\" \")\n",
    "        #print(text)\n",
    "        compile = re.compile(\"\\W+\")\n",
    "        line = [i for i in text if i not in stop_word_eng]\n",
    "        result = [token.tokenize(i) for i in line]\n",
    "        middle_result= [r for i in result for r in i]\n",
    "        result = [ps_stemmer.stem(i) for i in middle_result if not i in stop_word_eng] # 불용어 제거\n",
    "        #result = [i for i in final_result if i not in stop_word]\n",
    "\n",
    "        tokenized.append(result)\n",
    "    except:\n",
    "        tokenized.append([])\n",
    "\n",
    "eng = pd.Series(sum(tokenized,[]))"
   ]
  },
  {
   "cell_type": "code",
   "execution_count": 18,
   "metadata": {},
   "outputs": [
    {
     "name": "stderr",
     "output_type": "stream",
     "text": [
      "100%|██████████| 12800/12800 [00:28<00:00, 450.18it/s]\n"
     ]
    }
   ],
   "source": [
    "result_list = []\n",
    "for t in tqdm(dfv['pd_desc']):\n",
    "    try:\n",
    "        content_text = re.sub(r'\\([^)]*\\)', '', t)\n",
    "        sent_text = sent_tokenize(content_text)\n",
    "        normalized_text = []\n",
    "        for string in sent_text:\n",
    "            tokens = re.sub(r\"[^a-z0-9]+\", \" \", string.lower())\n",
    "            normalized_text.append(tokens)\n",
    "        result = [word_tokenize(sentence) for sentence in normalized_text]\n",
    "        result_list.append(result)\n",
    "    except:\n",
    "        result_list.append([])\n"
   ]
  },
  {
   "cell_type": "code",
   "execution_count": null,
   "metadata": {},
   "outputs": [],
   "source": []
  },
  {
   "cell_type": "code",
   "execution_count": 19,
   "metadata": {},
   "outputs": [],
   "source": [
    "result=[y for x in result_list for y in x]"
   ]
  },
  {
   "cell_type": "code",
   "execution_count": 20,
   "metadata": {},
   "outputs": [],
   "source": [
    "from gensim.models import Word2Vec\n",
    "from gensim.models import KeyedVectors\n",
    "\n",
    "model = Word2Vec(sentences=result, vector_size=100, window=5, min_count=5, workers=4, sg=0)"
   ]
  },
  {
   "cell_type": "code",
   "execution_count": 82,
   "metadata": {},
   "outputs": [],
   "source": [
    "source = []\n",
    "target = []\n",
    "views = []\n",
    "\n",
    "for i in ['energy','regulation','vds','nfpa','ul','eco','mist','coating','oxygen','pre','antifreeze','foam','powder','cabinet','gas','corrosion','freeze','bulb','recycle','up']:\n",
    "    model_result = model.wv.most_similar(i)\n",
    "    for l in model_result:\n",
    "        source.append(i)\n",
    "        target.append(l[0]) # target\n",
    "        views.append(l[1]) # Views\n",
    "\n",
    "import pandas as pd\n",
    "df = pd.DataFrame({'Source':source,\n",
    "                    'Target':target,\n",
    "                    'views':views})"
   ]
  },
  {
   "cell_type": "code",
   "execution_count": 83,
   "metadata": {},
   "outputs": [
    {
     "data": {
      "text/html": [
       "<div>\n",
       "<style scoped>\n",
       "    .dataframe tbody tr th:only-of-type {\n",
       "        vertical-align: middle;\n",
       "    }\n",
       "\n",
       "    .dataframe tbody tr th {\n",
       "        vertical-align: top;\n",
       "    }\n",
       "\n",
       "    .dataframe thead th {\n",
       "        text-align: right;\n",
       "    }\n",
       "</style>\n",
       "<table border=\"1\" class=\"dataframe\">\n",
       "  <thead>\n",
       "    <tr style=\"text-align: right;\">\n",
       "      <th></th>\n",
       "      <th>Source</th>\n",
       "      <th>Target</th>\n",
       "      <th>views</th>\n",
       "    </tr>\n",
       "  </thead>\n",
       "  <tbody>\n",
       "    <tr>\n",
       "      <th>0</th>\n",
       "      <td>energy</td>\n",
       "      <td>efficient</td>\n",
       "      <td>0.763556</td>\n",
       "    </tr>\n",
       "    <tr>\n",
       "      <th>1</th>\n",
       "      <td>energy</td>\n",
       "      <td>eco</td>\n",
       "      <td>0.653016</td>\n",
       "    </tr>\n",
       "    <tr>\n",
       "      <th>2</th>\n",
       "      <td>energy</td>\n",
       "      <td>environmentally</td>\n",
       "      <td>0.635329</td>\n",
       "    </tr>\n",
       "    <tr>\n",
       "      <th>3</th>\n",
       "      <td>energy</td>\n",
       "      <td>friendly</td>\n",
       "      <td>0.627999</td>\n",
       "    </tr>\n",
       "    <tr>\n",
       "      <th>4</th>\n",
       "      <td>energy</td>\n",
       "      <td>retention</td>\n",
       "      <td>0.625648</td>\n",
       "    </tr>\n",
       "    <tr>\n",
       "      <th>...</th>\n",
       "      <td>...</td>\n",
       "      <td>...</td>\n",
       "      <td>...</td>\n",
       "    </tr>\n",
       "    <tr>\n",
       "      <th>195</th>\n",
       "      <td>up</td>\n",
       "      <td>subject</td>\n",
       "      <td>0.323470</td>\n",
       "    </tr>\n",
       "    <tr>\n",
       "      <th>196</th>\n",
       "      <td>up</td>\n",
       "      <td>longer</td>\n",
       "      <td>0.312627</td>\n",
       "    </tr>\n",
       "    <tr>\n",
       "      <th>197</th>\n",
       "      <td>up</td>\n",
       "      <td>carry</td>\n",
       "      <td>0.309187</td>\n",
       "    </tr>\n",
       "    <tr>\n",
       "      <th>198</th>\n",
       "      <td>up</td>\n",
       "      <td>changing</td>\n",
       "      <td>0.306124</td>\n",
       "    </tr>\n",
       "    <tr>\n",
       "      <th>199</th>\n",
       "      <td>up</td>\n",
       "      <td>returnsreturnsyou</td>\n",
       "      <td>0.305929</td>\n",
       "    </tr>\n",
       "  </tbody>\n",
       "</table>\n",
       "<p>200 rows × 3 columns</p>\n",
       "</div>"
      ],
      "text/plain": [
       "     Source             Target     views\n",
       "0    energy          efficient  0.763556\n",
       "1    energy                eco  0.653016\n",
       "2    energy    environmentally  0.635329\n",
       "3    energy           friendly  0.627999\n",
       "4    energy          retention  0.625648\n",
       "..      ...                ...       ...\n",
       "195      up            subject  0.323470\n",
       "196      up             longer  0.312627\n",
       "197      up              carry  0.309187\n",
       "198      up           changing  0.306124\n",
       "199      up  returnsreturnsyou  0.305929\n",
       "\n",
       "[200 rows x 3 columns]"
      ]
     },
     "execution_count": 83,
     "metadata": {},
     "output_type": "execute_result"
    }
   ],
   "source": [
    "df"
   ]
  },
  {
   "cell_type": "code",
   "execution_count": 85,
   "metadata": {},
   "outputs": [],
   "source": [
    "# 저장\n",
    "df.to_csv('Network_table.csv', encoding='utf-8')"
   ]
  },
  {
   "cell_type": "code",
   "execution_count": 81,
   "metadata": {},
   "outputs": [
    {
     "data": {
      "text/plain": [
       "'efficient'"
      ]
     },
     "execution_count": 81,
     "metadata": {},
     "output_type": "execute_result"
    }
   ],
   "source": [
    "model_result = model.wv.most_similar(\"energy\")\n",
    "model_result[0][0]"
   ]
  },
  {
   "cell_type": "code",
   "execution_count": 69,
   "metadata": {},
   "outputs": [
    {
     "name": "stdout",
     "output_type": "stream",
     "text": [
      "[('phase', 0.589060366153717), ('siliconel', 0.5845210552215576), ('determined', 0.5804451704025269), ('municipal', 0.5757759213447571), ('adjusting', 0.540707528591156), ('handbook', 0.5373601913452148), ('city', 0.5350537300109863), ('administration', 0.5320284962654114), ('michael', 0.5175769925117493), ('david', 0.5102512240409851)]\n"
     ]
    }
   ],
   "source": [
    "model_result = model.wv.most_similar(\"regulation\")\n",
    "print(model_result)"
   ]
  },
  {
   "cell_type": "code",
   "execution_count": 36,
   "metadata": {},
   "outputs": [
    {
     "name": "stdout",
     "output_type": "stream",
     "text": [
      "[('yessafety', 0.6210481524467468), ('systemzero', 0.6162407994270325), ('ebaymanufacturer', 0.5937943458557129), ('vk102', 0.5925118923187256), ('d1', 0.591480553150177), ('ebay50pc', 0.5909313559532166), ('800w', 0.5905582904815674), ('ex6430', 0.5882773399353027), ('irrigationdescription50x', 0.5831693410873413), ('description50pc', 0.5825844407081604)]\n"
     ]
    }
   ],
   "source": [
    "model_result = model.wv.most_similar(\"vds\")\n",
    "print(model_result)"
   ]
  },
  {
   "cell_type": "code",
   "execution_count": 71,
   "metadata": {},
   "outputs": [
    {
     "name": "stdout",
     "output_type": "stream",
     "text": [
      "[('publisher', 0.6909229159355164), ('astm', 0.6857380270957947), ('csa', 0.6847530007362366), ('viking', 0.6461664438247681), ('meets', 0.6376650929450989), ('13d', 0.6257234811782837), ('author', 0.6247117519378662), ('waterflow', 0.6219533085823059), ('9001', 0.6167435646057129), ('detector', 0.6149163842201233)]\n"
     ]
    }
   ],
   "source": [
    "model_result = model.wv.most_similar(\"nfpa\")\n",
    "print(model_result)"
   ]
  },
  {
   "cell_type": "code",
   "execution_count": 43,
   "metadata": {},
   "outputs": [
    {
     "name": "stdout",
     "output_type": "stream",
     "text": [
      "[('ulc', 0.8036059141159058), ('fm', 0.7556964159011841), ('cul', 0.7519188523292542), ('astm', 0.7363535165786743), ('ex6430', 0.7317100167274475), ('yesnsf', 0.7307905554771423), ('culus', 0.7157650589942932), ('csa', 0.6980778574943542), ('certified', 0.6942856907844543), ('9001', 0.6852016448974609)]\n"
     ]
    }
   ],
   "source": [
    "model_result = model.wv.most_similar(\"ul\")\n",
    "print(model_result)"
   ]
  },
  {
   "cell_type": "code",
   "execution_count": 72,
   "metadata": {},
   "outputs": [
    {
     "name": "stdout",
     "output_type": "stream",
     "text": [
      "[('environmentally', 0.7663635611534119), ('friendly', 0.7596206665039062), ('elegant', 0.7487348914146423), ('abrasion', 0.7038860321044922), ('adds', 0.6557727456092834), ('energy', 0.6530157923698425), ('superior', 0.6436828970909119), ('lightweight', 0.6410384774208069), ('windproof', 0.6394991278648376), ('advantages', 0.6371086835861206)]\n"
     ]
    }
   ],
   "source": [
    "model_result = model.wv.most_similar(\"eco\")\n",
    "print(model_result)"
   ]
  },
  {
   "cell_type": "code",
   "execution_count": 74,
   "metadata": {},
   "outputs": [
    {
     "name": "stdout",
     "output_type": "stream",
     "text": [
      "[('particles', 0.5560967922210693), ('fine', 0.5453689694404602), ('inflatable', 0.5375937223434448), ('modes', 0.5331375002861023), ('calibre', 0.5304380059242249), ('bubbler', 0.513094961643219), ('rockwood', 0.5058239698410034), ('jet', 0.5054169297218323), ('emitter', 0.5030114054679871), ('atomization', 0.5016798973083496)]\n"
     ]
    }
   ],
   "source": [
    "model_result = model.wv.most_similar(\"mist\")\n",
    "print(model_result)"
   ]
  },
  {
   "cell_type": "code",
   "execution_count": 75,
   "metadata": {},
   "outputs": [
    {
     "name": "stdout",
     "output_type": "stream",
     "text": [
      "[('flue', 0.7372561097145081), ('tobacco', 0.7364110350608826), ('coated', 0.692889928817749), ('truckc', 0.6903624534606934), ('painted', 0.671558678150177), ('gas', 0.6685886383056641), ('decorative', 0.6664612293243408), ('rescue', 0.6617200970649719), ('windproof', 0.6565675139427185), ('role', 0.6548659205436707)]\n"
     ]
    }
   ],
   "source": [
    "model_result = model.wv.most_similar(\"coating\")\n",
    "print(model_result)"
   ]
  },
  {
   "cell_type": "code",
   "execution_count": 52,
   "metadata": {},
   "outputs": [
    {
     "name": "stdout",
     "output_type": "stream",
     "text": [
      "[('flames', 0.6730307340621948), ('burning', 0.6455993056297302), ('squeeze', 0.5894021987915039), ('sweep', 0.5875570774078369), ('utilities', 0.5582514405250549), ('stop', 0.5442023277282715), ('oil', 0.5430602431297302), ('eliminate', 0.5413143634796143), ('preventing', 0.5408375859260559), ('discharged', 0.537423312664032)]\n"
     ]
    }
   ],
   "source": [
    "model_result = model.wv.most_similar(\"oxygen\")\n",
    "print(model_result)"
   ]
  },
  {
   "cell_type": "code",
   "execution_count": 77,
   "metadata": {},
   "outputs": [
    {
     "name": "stdout",
     "output_type": "stream",
     "text": [
      "[('mounting', 0.5539923906326294), ('escutcheon', 0.5074782371520996), ('bonnet', 0.49280092120170593), ('plain', 0.47502148151397705), ('recessed', 0.46573445200920105), ('bathroom', 0.45775365829467773), ('backing', 0.4534775912761688), ('620', 0.4531228542327881), ('label', 0.45212623476982117), ('nbr', 0.449749231338501)]\n"
     ]
    }
   ],
   "source": [
    "model_result = model.wv.most_similar(\"pre\")\n",
    "print(model_result)"
   ]
  },
  {
   "cell_type": "code",
   "execution_count": 63,
   "metadata": {},
   "outputs": [
    {
     "name": "stdout",
     "output_type": "stream",
     "text": [
      "[('examines', 0.5059763193130493), ('spaces', 0.4736999571323395), ('soaker', 0.46562254428863525), ('gardening', 0.46246975660324097), ('garage', 0.451834112405777), ('future', 0.44594019651412964), ('engsynopsis', 0.4443955421447754), ('kit', 0.43375447392463684), ('kettle', 0.4335917532444), ('borders', 0.4303920567035675)]\n"
     ]
    }
   ],
   "source": [
    "model_result = model.wv.most_similar(\"antifreeze\")\n",
    "print(model_result)"
   ]
  },
  {
   "cell_type": "code",
   "execution_count": 56,
   "metadata": {},
   "outputs": [
    {
     "name": "stdout",
     "output_type": "stream",
     "text": [
      "[('dioxide', 0.7763537764549255), ('carbon', 0.7174956202507019), ('afff', 0.7119457125663757), ('sodium', 0.6681053638458252), ('aerial', 0.6586971879005432), ('truckc', 0.6484240293502808), ('extinguishant', 0.6349611878395081), ('treatment', 0.6252532601356506), ('lance', 0.6236169338226318), ('powder', 0.6208654642105103)]\n"
     ]
    }
   ],
   "source": [
    "model_result = model.wv.most_similar(\"foam\")\n",
    "print(model_result)"
   ]
  },
  {
   "cell_type": "code",
   "execution_count": 58,
   "metadata": {},
   "outputs": [
    {
     "name": "stdout",
     "output_type": "stream",
     "text": [
      "[('dry', 0.7539325952529907), ('abe', 0.7429816722869873), ('truckc', 0.6985610127449036), ('carbon', 0.6854802370071411), ('coated', 0.6808155179023743), ('aerial', 0.6646528244018555), ('1kg', 0.663991391658783), ('ammonium', 0.6627735495567322), ('cylinders', 0.6594997048377991), ('chemical', 0.654915452003479)]\n"
     ]
    }
   ],
   "source": [
    "model_result = model.wv.most_similar(\"powder\")\n",
    "print(model_result)"
   ]
  },
  {
   "cell_type": "code",
   "execution_count": 59,
   "metadata": {},
   "outputs": [
    {
     "name": "stdout",
     "output_type": "stream",
     "text": [
      "[('round', 0.7631329894065857), ('semi', 0.7395769357681274), ('tempered', 0.7285898923873901), ('lock', 0.721603274345398), ('recessed', 0.718862771987915), ('molded', 0.7126045823097229), ('leather', 0.7092360258102417), ('latch', 0.7051291465759277), ('acrylic', 0.702668309211731), ('foot', 0.6978692412376404)]\n"
     ]
    }
   ],
   "source": [
    "model_result = model.wv.most_similar(\"cabinet\")\n",
    "print(model_result)"
   ]
  },
  {
   "cell_type": "code",
   "execution_count": 60,
   "metadata": {},
   "outputs": [
    {
     "name": "stdout",
     "output_type": "stream",
     "text": [
      "[('coating', 0.6685886383056641), ('aerial', 0.6533563733100891), ('fighting', 0.6304861307144165), ('truckc', 0.6291289329528809), ('cartridge', 0.6250663995742798), ('signaling', 0.6247497797012329), ('oil', 0.6247192621231079), ('wet', 0.6155312657356262), ('suppression', 0.6148420572280884), ('ladder', 0.6124799847602844)]\n"
     ]
    }
   ],
   "source": [
    "model_result = model.wv.most_similar(\"gas\")\n",
    "print(model_result)"
   ]
  },
  {
   "cell_type": "code",
   "execution_count": 61,
   "metadata": {},
   "outputs": [
    {
     "name": "stdout",
     "output_type": "stream",
     "text": [
      "[('tough', 0.803975522518158), ('resistant', 0.7802555561065674), ('gf', 0.7290877103805542), ('abrasion', 0.7275943160057068), ('lightweight', 0.7199957370758057), ('durability', 0.6908071637153625), ('hightemperature', 0.689023494720459), ('fungal', 0.6889410614967346), ('uv', 0.6858384609222412), ('moisture', 0.6645101308822632)]\n"
     ]
    }
   ],
   "source": [
    "model_result = model.wv.most_similar(\"corrosion\")\n",
    "print(model_result)"
   ]
  },
  {
   "cell_type": "code",
   "execution_count": 62,
   "metadata": {},
   "outputs": [
    {
     "name": "stdout",
     "output_type": "stream",
     "text": [
      "[('instructional', 0.6945998072624207), ('smoke', 0.6552724838256836), ('serves', 0.6552177667617798), ('dvd', 0.6015099287033081), ('deliveryvisit', 0.5959595441818237), ('upspray', 0.580348789691925), ('bpa', 0.5753657817840576), ('listerthe', 0.5683583617210388), ('instant', 0.5595260858535767), ('labyrinth', 0.5565648674964905)]\n"
     ]
    }
   ],
   "source": [
    "model_result = model.wv.most_similar(\"freeze\")\n",
    "print(model_result)"
   ]
  },
  {
   "cell_type": "code",
   "execution_count": 65,
   "metadata": {},
   "outputs": [
    {
     "name": "stdout",
     "output_type": "stream",
     "text": [
      "[('frangible', 0.7180282473564148), ('coated', 0.7003592848777771), ('pendent', 0.6973341703414917), ('strobe', 0.6860014796257019), ('ceiling', 0.6755885481834412), ('upright', 0.672823429107666), ('led', 0.6694995164871216), ('graphic', 0.6694039106369019), ('155f', 0.6665119528770447), ('glass', 0.6652551293373108)]\n"
     ]
    }
   ],
   "source": [
    "model_result = model.wv.most_similar(\"bulb\")\n",
    "print(model_result)"
   ]
  },
  {
   "cell_type": "code",
   "execution_count": 66,
   "metadata": {},
   "outputs": [
    {
     "name": "stdout",
     "output_type": "stream",
     "text": [
      "[('specialized', 0.5715609788894653), ('58cm', 0.5152342915534973), ('equipment', 0.4976256191730499), ('fully', 0.4478294551372528), ('corp', 0.4443677067756653), ('bracketsfeature', 0.4319995939731598), ('2xfeature', 0.421805739402771), ('vintage', 0.4148240089416504), ('shops', 0.4140331447124481), ('farm', 0.411601185798645)]\n"
     ]
    }
   ],
   "source": [
    "model_result = model.wv.most_similar(\"recycle\")\n",
    "print(model_result)"
   ]
  },
  {
   "cell_type": "code",
   "execution_count": 68,
   "metadata": {},
   "outputs": [
    {
     "name": "stdout",
     "output_type": "stream",
     "text": [
      "[('piecesnotethis', 0.3499282896518707), ('rated', 0.338899701833725), ('50', 0.3357253074645996), ('news', 0.3298394978046417), ('000', 0.3264506459236145), ('subject', 0.32347041368484497), ('longer', 0.3126266598701477), ('carry', 0.30918678641319275), ('changing', 0.3061237335205078), ('returnsreturnsyou', 0.30592891573905945)]\n"
     ]
    }
   ],
   "source": [
    "model_result = model.wv.most_similar(\"up\")\n",
    "print(model_result)"
   ]
  },
  {
   "cell_type": "code",
   "execution_count": 23,
   "metadata": {},
   "outputs": [],
   "source": [
    "all = pd.Series(sum(result,[]))"
   ]
  },
  {
   "cell_type": "code",
   "execution_count": 33,
   "metadata": {},
   "outputs": [
    {
     "data": {
      "text/plain": [
       "the                    3.504972e-02\n",
       "to                     2.538248e-02\n",
       "and                    2.297415e-02\n",
       "of                     1.605111e-02\n",
       "for                    1.316191e-02\n",
       "                           ...     \n",
       "manualunderstanding    2.217004e-07\n",
       "0145                   2.217004e-07\n",
       "steelrechargeable      2.217004e-07\n",
       "lbtemperature          2.217004e-07\n",
       "states40               2.217004e-07\n",
       "Length: 49004, dtype: float64"
      ]
     },
     "execution_count": 33,
     "metadata": {},
     "output_type": "execute_result"
    }
   ],
   "source": [
    "all.value_counts(20)"
   ]
  },
  {
   "cell_type": "code",
   "execution_count": null,
   "metadata": {},
   "outputs": [],
   "source": []
  }
 ],
 "metadata": {
  "kernelspec": {
   "display_name": "Python 3.9.12 ('base')",
   "language": "python",
   "name": "python3"
  },
  "language_info": {
   "codemirror_mode": {
    "name": "ipython",
    "version": 3
   },
   "file_extension": ".py",
   "mimetype": "text/x-python",
   "name": "python",
   "nbconvert_exporter": "python",
   "pygments_lexer": "ipython3",
   "version": "3.9.12"
  },
  "orig_nbformat": 4,
  "vscode": {
   "interpreter": {
    "hash": "ad2bdc8ecc057115af97d19610ffacc2b4e99fae6737bb82f5d7fb13d2f2c186"
   }
  }
 },
 "nbformat": 4,
 "nbformat_minor": 2
}

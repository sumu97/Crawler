{
 "cells": [
  {
   "cell_type": "markdown",
   "metadata": {},
   "source": [
    "# Ebay 화재 스프링클러 제품 크롤링"
   ]
  },
  {
   "cell_type": "markdown",
   "metadata": {},
   "source": [
    "### 제품명, 가격, 링크 크롤링"
   ]
  },
  {
   "cell_type": "code",
   "execution_count": 201,
   "metadata": {},
   "outputs": [
    {
     "name": "stdout",
     "output_type": "stream",
     "text": [
      "크롤링 할 검색어 : fire+sprinkler\n",
      "크롤링 할 페이지 수 : 28\n",
      "1 페이지 크롤링 중 -> https://www.ebay.com/sch/i.html?_from=R40&_nkw=fire+sprinkler&_sacat=0&_pgn=1\n",
      "60 개 수집, 페이지 종료\n",
      "2 페이지 크롤링 중 -> https://www.ebay.com/sch/i.html?_from=R40&_nkw=fire+sprinkler&_sacat=0&_pgn=2\n",
      "60 개 수집, 페이지 종료\n",
      "3 페이지 크롤링 중 -> https://www.ebay.com/sch/i.html?_from=R40&_nkw=fire+sprinkler&_sacat=0&_pgn=3\n",
      "60 개 수집, 페이지 종료\n",
      "4 페이지 크롤링 중 -> https://www.ebay.com/sch/i.html?_from=R40&_nkw=fire+sprinkler&_sacat=0&_pgn=4\n",
      "60 개 수집, 페이지 종료\n",
      "5 페이지 크롤링 중 -> https://www.ebay.com/sch/i.html?_from=R40&_nkw=fire+sprinkler&_sacat=0&_pgn=5\n",
      "60 개 수집, 페이지 종료\n",
      "6 페이지 크롤링 중 -> https://www.ebay.com/sch/i.html?_from=R40&_nkw=fire+sprinkler&_sacat=0&_pgn=6\n",
      "60 개 수집, 페이지 종료\n",
      "7 페이지 크롤링 중 -> https://www.ebay.com/sch/i.html?_from=R40&_nkw=fire+sprinkler&_sacat=0&_pgn=7\n",
      "60 개 수집, 페이지 종료\n",
      "8 페이지 크롤링 중 -> https://www.ebay.com/sch/i.html?_from=R40&_nkw=fire+sprinkler&_sacat=0&_pgn=8\n",
      "60 개 수집, 페이지 종료\n",
      "9 페이지 크롤링 중 -> https://www.ebay.com/sch/i.html?_from=R40&_nkw=fire+sprinkler&_sacat=0&_pgn=9\n",
      "60 개 수집, 페이지 종료\n",
      "10 페이지 크롤링 중 -> https://www.ebay.com/sch/i.html?_from=R40&_nkw=fire+sprinkler&_sacat=0&_pgn=10\n",
      "60 개 수집, 페이지 종료\n",
      "11 페이지 크롤링 중 -> https://www.ebay.com/sch/i.html?_from=R40&_nkw=fire+sprinkler&_sacat=0&_pgn=11\n",
      "60 개 수집, 페이지 종료\n",
      "12 페이지 크롤링 중 -> https://www.ebay.com/sch/i.html?_from=R40&_nkw=fire+sprinkler&_sacat=0&_pgn=12\n",
      "60 개 수집, 페이지 종료\n",
      "13 페이지 크롤링 중 -> https://www.ebay.com/sch/i.html?_from=R40&_nkw=fire+sprinkler&_sacat=0&_pgn=13\n",
      "60 개 수집, 페이지 종료\n",
      "14 페이지 크롤링 중 -> https://www.ebay.com/sch/i.html?_from=R40&_nkw=fire+sprinkler&_sacat=0&_pgn=14\n",
      "60 개 수집, 페이지 종료\n",
      "15 페이지 크롤링 중 -> https://www.ebay.com/sch/i.html?_from=R40&_nkw=fire+sprinkler&_sacat=0&_pgn=15\n",
      "60 개 수집, 페이지 종료\n",
      "16 페이지 크롤링 중 -> https://www.ebay.com/sch/i.html?_from=R40&_nkw=fire+sprinkler&_sacat=0&_pgn=16\n",
      "60 개 수집, 페이지 종료\n",
      "17 페이지 크롤링 중 -> https://www.ebay.com/sch/i.html?_from=R40&_nkw=fire+sprinkler&_sacat=0&_pgn=17\n",
      "60 개 수집, 페이지 종료\n",
      "18 페이지 크롤링 중 -> https://www.ebay.com/sch/i.html?_from=R40&_nkw=fire+sprinkler&_sacat=0&_pgn=18\n",
      "60 개 수집, 페이지 종료\n",
      "19 페이지 크롤링 중 -> https://www.ebay.com/sch/i.html?_from=R40&_nkw=fire+sprinkler&_sacat=0&_pgn=19\n",
      "60 개 수집, 페이지 종료\n",
      "20 페이지 크롤링 중 -> https://www.ebay.com/sch/i.html?_from=R40&_nkw=fire+sprinkler&_sacat=0&_pgn=20\n",
      "60 개 수집, 페이지 종료\n",
      "21 페이지 크롤링 중 -> https://www.ebay.com/sch/i.html?_from=R40&_nkw=fire+sprinkler&_sacat=0&_pgn=21\n",
      "60 개 수집, 페이지 종료\n",
      "22 페이지 크롤링 중 -> https://www.ebay.com/sch/i.html?_from=R40&_nkw=fire+sprinkler&_sacat=0&_pgn=22\n",
      "60 개 수집, 페이지 종료\n",
      "23 페이지 크롤링 중 -> https://www.ebay.com/sch/i.html?_from=R40&_nkw=fire+sprinkler&_sacat=0&_pgn=23\n",
      "60 개 수집, 페이지 종료\n",
      "24 페이지 크롤링 중 -> https://www.ebay.com/sch/i.html?_from=R40&_nkw=fire+sprinkler&_sacat=0&_pgn=24\n",
      "60 개 수집, 페이지 종료\n",
      "25 페이지 크롤링 중 -> https://www.ebay.com/sch/i.html?_from=R40&_nkw=fire+sprinkler&_sacat=0&_pgn=25\n",
      "60 개 수집, 페이지 종료\n",
      "26 페이지 크롤링 중 -> https://www.ebay.com/sch/i.html?_from=R40&_nkw=fire+sprinkler&_sacat=0&_pgn=26\n",
      "60 개 수집, 페이지 종료\n",
      "27 페이지 크롤링 중 -> https://www.ebay.com/sch/i.html?_from=R40&_nkw=fire+sprinkler&_sacat=0&_pgn=27\n",
      "60 개 수집, 페이지 종료\n",
      "28 페이지 크롤링 중 -> https://www.ebay.com/sch/i.html?_from=R40&_nkw=fire+sprinkler&_sacat=0&_pgn=28\n",
      "60 개 수집, 페이지 종료\n"
     ]
    }
   ],
   "source": [
    "import requests\n",
    "import pandas as pd\n",
    "from bs4 import BeautifulSoup\n",
    "import time\n",
    "import random\n",
    "\n",
    "search_kwd = \"fire+sprinkler\"\n",
    "print(\"크롤링 할 검색어 :\",search_kwd)\n",
    "\n",
    "search_url = \"https://www.ebay.com/sch/i.html?_from=R40&_nkw={}&_sacat=0&_pgn={}\"\n",
    "# 변수 : 검색어, 페이지\n",
    "# 한 페이지당 60개씩 출력됨 (기본값)\n",
    "\n",
    "# 검색량 확인\n",
    "url = search_url.format(search_kwd, 1)\n",
    "response = requests.get(url)\n",
    "html = response.text\n",
    "soup = BeautifulSoup(html, 'html.parser')\n",
    "search_cnt = soup.select_one(\"#mainContent > div.s-answer-region.s-answer-region-center-top > div > div.clearfix.srp-controls__row-2 > div:nth-child(1) > div.srp-controls__control.srp-controls__count > h1 > span:nth-child(2)\").text\n",
    "scnt = int(search_cnt.replace(',',\"\"))//60\n",
    "print(\"크롤링 할 페이지 수 :\", scnt)\n",
    "\n",
    "pd_name_list = []\n",
    "pd_link_list = []\n",
    "pd_pric_list = []\n",
    "pd_srch_list = []\n",
    "\n",
    "for l in range(scnt):\n",
    "    time.sleep(random.random()/4) # 크롤링 시간 변칙 : 0 ~ 0.25 초 사이 랜덤\n",
    "    url = search_url.format(search_kwd,str(l+1))\n",
    "    # Page Count 반복문 추가\n",
    "    print(l+1,\"페이지 크롤링 중 ->\",url)\n",
    "    response = requests.get(url,headers={\"User-Agent\": \"Mozilla/5.0 (Windows NT 10.0; Win64; x64) Chrome/100.0.48496.75\"}) # 없으면 봇으로 인식해 5페이지부터 암호화됨\n",
    "\n",
    "    if response.status_code == 200:\n",
    "            html = response.text\n",
    "            soup = BeautifulSoup(html, 'html.parser')\n",
    "            #print(type(soup))\n",
    "            t1 = soup.select_one('#srp-river-results > ul')\n",
    "            #print(type(t1))\n",
    "            t2 = t1.find_all('li')\n",
    "\n",
    "            for i in range(100):\n",
    "                try:\n",
    "                    pd_name_list.append(t2[i].select_one('h3').text)\n",
    "                    pd_link_list.append(t2[i].select_one('a').attrs['href'])\n",
    "                    pd_pric_list.append(t2[i].select_one('.s-item__price').text)\n",
    "                    pd_srch_list.append(search_kwd)\n",
    "                except:\n",
    "                    print(i,\"개 수집, 페이지 종료\")\n",
    "                    break\n",
    "    else : \n",
    "        print(response.status_code)\n",
    "\n",
    "\n",
    "# 데이터프레임 생성\n",
    "df = pd.DataFrame({'pd_name':pd_name_list,\n",
    "                'pd_link':pd_link_list,\n",
    "                'pd_pric':pd_pric_list,\n",
    "                'pd_srch':pd_srch_list})"
   ]
  },
  {
   "cell_type": "markdown",
   "metadata": {},
   "source": [
    "### 세부 정보 크롤링"
   ]
  },
  {
   "cell_type": "code",
   "execution_count": 202,
   "metadata": {},
   "outputs": [
    {
     "data": {
      "text/html": [
       "<div>\n",
       "<style scoped>\n",
       "    .dataframe tbody tr th:only-of-type {\n",
       "        vertical-align: middle;\n",
       "    }\n",
       "\n",
       "    .dataframe tbody tr th {\n",
       "        vertical-align: top;\n",
       "    }\n",
       "\n",
       "    .dataframe thead th {\n",
       "        text-align: right;\n",
       "    }\n",
       "</style>\n",
       "<table border=\"1\" class=\"dataframe\">\n",
       "  <thead>\n",
       "    <tr style=\"text-align: right;\">\n",
       "      <th></th>\n",
       "      <th>pd_name</th>\n",
       "      <th>pd_link</th>\n",
       "      <th>pd_pric</th>\n",
       "      <th>pd_srch</th>\n",
       "    </tr>\n",
       "  </thead>\n",
       "  <tbody>\n",
       "    <tr>\n",
       "      <th>0</th>\n",
       "      <td>Fire Sprinkler 헤드 프로텍션 프레임 매립형 화재 스프링클러 헤드가드 케이지</td>\n",
       "      <td>https://www.ebay.com/itm/295093458675?hash=ite...</td>\n",
       "      <td>$3.92</td>\n",
       "      <td>fire+sprinkler</td>\n",
       "    </tr>\n",
       "    <tr>\n",
       "      <th>1</th>\n",
       "      <td>93 Upright Pendent Fire Sprinkler Head For Fir...</td>\n",
       "      <td>https://www.ebay.com/itm/184762020498?hash=ite...</td>\n",
       "      <td>$3.73</td>\n",
       "      <td>fire+sprinkler</td>\n",
       "    </tr>\n",
       "    <tr>\n",
       "      <th>2</th>\n",
       "      <td>오래 보관된 새 상품 (2) 바이킹 펜던트 155F 황동 화재 스프링클러 헤드 M9...</td>\n",
       "      <td>https://www.ebay.com/itm/265551512849?hash=ite...</td>\n",
       "      <td>$12.99</td>\n",
       "      <td>fire+sprinkler</td>\n",
       "    </tr>\n",
       "    <tr>\n",
       "      <th>3</th>\n",
       "      <td>ZSTX-15 68℃ Pendent Fire Extinguishing System ...</td>\n",
       "      <td>https://www.ebay.com/itm/143308839496?hash=ite...</td>\n",
       "      <td>$3.78</td>\n",
       "      <td>fire+sprinkler</td>\n",
       "    </tr>\n",
       "    <tr>\n",
       "      <th>4</th>\n",
       "      <td>빈티지 Grinnell Fire Sprinkler Extinguisher F920 ...</td>\n",
       "      <td>https://www.ebay.com/itm/265777253109?hash=ite...</td>\n",
       "      <td>$28.00</td>\n",
       "      <td>fire+sprinkler</td>\n",
       "    </tr>\n",
       "    <tr>\n",
       "      <th>...</th>\n",
       "      <td>...</td>\n",
       "      <td>...</td>\n",
       "      <td>...</td>\n",
       "      <td>...</td>\n",
       "    </tr>\n",
       "    <tr>\n",
       "      <th>1675</th>\n",
       "      <td>글로브 앤티크 빈티지 황동 파이어 파이터 구조 스프링클러 알람 165C37</td>\n",
       "      <td>https://www.ebay.com/itm/174447566058?hash=ite...</td>\n",
       "      <td>$14.99</td>\n",
       "      <td>fire+sprinkler</td>\n",
       "    </tr>\n",
       "    <tr>\n",
       "      <th>1676</th>\n",
       "      <td>Fire sprinkler head Rasco G SSPD 212 도 F 흰색 노 ...</td>\n",
       "      <td>https://www.ebay.com/itm/382415594983?hash=ite...</td>\n",
       "      <td>$12.50</td>\n",
       "      <td>fire+sprinkler</td>\n",
       "    </tr>\n",
       "    <tr>\n",
       "      <th>1677</th>\n",
       "      <td>희귀 빈티지 파이어 스프링클러 헤드 타입 E Firesnow 1973 165F 15...</td>\n",
       "      <td>https://www.ebay.com/itm/195205384076?hash=ite...</td>\n",
       "      <td>$30.06</td>\n",
       "      <td>fire+sprinkler</td>\n",
       "    </tr>\n",
       "    <tr>\n",
       "      <th>1678</th>\n",
       "      <td>시스템 센서 WFD25N 방화 스프링클러 모니터링 2.5인치 흐름 감지기</td>\n",
       "      <td>https://www.ebay.com/itm/294998879119?epid=214...</td>\n",
       "      <td>$48.99</td>\n",
       "      <td>fire+sprinkler</td>\n",
       "    </tr>\n",
       "    <tr>\n",
       "      <th>1679</th>\n",
       "      <td>Combined Hydrant &amp; Sprinkler Booster (Statutor...</td>\n",
       "      <td>https://www.ebay.com/itm/153677699986?hash=ite...</td>\n",
       "      <td>$23.97</td>\n",
       "      <td>fire+sprinkler</td>\n",
       "    </tr>\n",
       "  </tbody>\n",
       "</table>\n",
       "<p>1680 rows × 4 columns</p>\n",
       "</div>"
      ],
      "text/plain": [
       "                                                pd_name  \\\n",
       "0      Fire Sprinkler 헤드 프로텍션 프레임 매립형 화재 스프링클러 헤드가드 케이지   \n",
       "1     93 Upright Pendent Fire Sprinkler Head For Fir...   \n",
       "2     오래 보관된 새 상품 (2) 바이킹 펜던트 155F 황동 화재 스프링클러 헤드 M9...   \n",
       "3     ZSTX-15 68℃ Pendent Fire Extinguishing System ...   \n",
       "4     빈티지 Grinnell Fire Sprinkler Extinguisher F920 ...   \n",
       "...                                                 ...   \n",
       "1675          글로브 앤티크 빈티지 황동 파이어 파이터 구조 스프링클러 알람 165C37   \n",
       "1676  Fire sprinkler head Rasco G SSPD 212 도 F 흰색 노 ...   \n",
       "1677  희귀 빈티지 파이어 스프링클러 헤드 타입 E Firesnow 1973 165F 15...   \n",
       "1678           시스템 센서 WFD25N 방화 스프링클러 모니터링 2.5인치 흐름 감지기   \n",
       "1679  Combined Hydrant & Sprinkler Booster (Statutor...   \n",
       "\n",
       "                                                pd_link pd_pric  \\\n",
       "0     https://www.ebay.com/itm/295093458675?hash=ite...   $3.92   \n",
       "1     https://www.ebay.com/itm/184762020498?hash=ite...   $3.73   \n",
       "2     https://www.ebay.com/itm/265551512849?hash=ite...  $12.99   \n",
       "3     https://www.ebay.com/itm/143308839496?hash=ite...   $3.78   \n",
       "4     https://www.ebay.com/itm/265777253109?hash=ite...  $28.00   \n",
       "...                                                 ...     ...   \n",
       "1675  https://www.ebay.com/itm/174447566058?hash=ite...  $14.99   \n",
       "1676  https://www.ebay.com/itm/382415594983?hash=ite...  $12.50   \n",
       "1677  https://www.ebay.com/itm/195205384076?hash=ite...  $30.06   \n",
       "1678  https://www.ebay.com/itm/294998879119?epid=214...  $48.99   \n",
       "1679  https://www.ebay.com/itm/153677699986?hash=ite...  $23.97   \n",
       "\n",
       "             pd_srch  \n",
       "0     fire+sprinkler  \n",
       "1     fire+sprinkler  \n",
       "2     fire+sprinkler  \n",
       "3     fire+sprinkler  \n",
       "4     fire+sprinkler  \n",
       "...              ...  \n",
       "1675  fire+sprinkler  \n",
       "1676  fire+sprinkler  \n",
       "1677  fire+sprinkler  \n",
       "1678  fire+sprinkler  \n",
       "1679  fire+sprinkler  \n",
       "\n",
       "[1680 rows x 4 columns]"
      ]
     },
     "execution_count": 202,
     "metadata": {},
     "output_type": "execute_result"
    }
   ],
   "source": [
    "df"
   ]
  },
  {
   "cell_type": "code",
   "execution_count": 256,
   "metadata": {},
   "outputs": [
    {
     "name": "stdout",
     "output_type": "stream",
     "text": [
      "10개 이상 남음\n"
     ]
    }
   ],
   "source": [
    "#for link in df['pd_link']:\n",
    "link = \"https://www.ebay.com/itm/284835233050?hash=item425180bd1a:g:J6sAAOSwYZpilJX9&amdata=enc%3AAQAHAAAA4B2htKyp1SWITvMqu9ID%2FFgwed9B3QUPmeNjFS1BjY1T%2F9rNcAt7M77RtrAsMessqQK%2BiOCx24qkCf0XkUhHsWf6893WmT%2BBscetAuOEWgSORrdL1BWQzceH1esnoTFvnzrAbTM0DXIPVFMwNGaGQsvmFNws8IjaF0jeY5P2hhxOvV%2FihflLyS5QEmXW5fJKztBmEqQqtrVn1VdmVRtlriLelOUfSl2tKE2y3lGqF7vQ%2FJINPdYA4uYq1dyzb0tkxrYxI0PucdpghHPX1Y2k7N2FizN5I611B4MLeoMVdjvp%7Ctkp%3ABFBM4vqo1MJg\"\n",
    "response = requests.get(link)#, headers={\"User-Agent\": \"Mozilla/5.0 (Windows NT 10.0; Win64; x64) Chrome/100.0.48496.75\"})\n",
    "html = response.text\n",
    "soup = BeautifulSoup(html, 'html.parser')\n",
    "t1 = soup.select_one(\".d-item-condition-value > div > div > div > span,ux-textspans\").text\n",
    "t2 = soup.select_one(\"#qtySubTxt\").text.strip()\n",
    "t3 = \n",
    "\n",
    "    "
   ]
  },
  {
   "cell_type": "markdown",
   "metadata": {},
   "source": [
    "### 중복 제거는 마지막에 활용"
   ]
  },
  {
   "cell_type": "code",
   "execution_count": 197,
   "metadata": {},
   "outputs": [
    {
     "name": "stdout",
     "output_type": "stream",
     "text": [
      "중복 제거 전: (1440, 3)\n",
      "중복 제거 후: (1172, 3)\n"
     ]
    }
   ],
   "source": [
    "print(\"중복 제거 전:\",df.shape)\n",
    "dfs = df.drop_duplicates(['pd_name'])\n",
    "print(\"중복 제거 후:\",dfs.shape)"
   ]
  },
  {
   "cell_type": "code",
   "execution_count": null,
   "metadata": {},
   "outputs": [],
   "source": []
  },
  {
   "cell_type": "markdown",
   "metadata": {},
   "source": [
    "## 버리는 코드"
   ]
  },
  {
   "cell_type": "code",
   "execution_count": 191,
   "metadata": {},
   "outputs": [
    {
     "name": "stdout",
     "output_type": "stream",
     "text": [
      "86\n"
     ]
    }
   ],
   "source": [
    "import requests\n",
    "import pandas as pd\n",
    "from bs4 import BeautifulSoup\n",
    "import time\n",
    "import random\n",
    "\n",
    "search_kwd = \"fire+sprinkler\"\n",
    "\n",
    "search_url = \"https://www.ebay.com/sch/i.html?_from=R40&_nkw={}&_sacat=0&_pgn={}\"\n",
    "\n",
    "pd_name_list = []\n",
    "pd_link_list = []\n",
    "pd_pric_list = []\n",
    "\n",
    "url = search_url.format(search_kwd,13)\n",
    "response = requests.get(url,headers={\"User-Agent\": \"Mozilla/5.0 (Windows NT 10.0; Win64; x64) Chrome/100.0.48496.75\"})\n",
    "html = response.text\n",
    "soup = BeautifulSoup(html, 'html.parser')\n",
    "t1 = soup.select_one('#srp-river-results > ul')\n",
    "t2 = t1.find_all('li')\n",
    "print(len(t2))\n",
    "#print(soup)"
   ]
  }
 ],
 "metadata": {
  "kernelspec": {
   "display_name": "Python 3.10.5 64-bit",
   "language": "python",
   "name": "python3"
  },
  "language_info": {
   "codemirror_mode": {
    "name": "ipython",
    "version": 3
   },
   "file_extension": ".py",
   "mimetype": "text/x-python",
   "name": "python",
   "nbconvert_exporter": "python",
   "pygments_lexer": "ipython3",
   "version": "3.10.5"
  },
  "orig_nbformat": 4,
  "vscode": {
   "interpreter": {
    "hash": "fb4569285eef3a3450cb62085a5b1e0da4bce0af555edc33dcf29baf3acc1368"
   }
  }
 },
 "nbformat": 4,
 "nbformat_minor": 2
}

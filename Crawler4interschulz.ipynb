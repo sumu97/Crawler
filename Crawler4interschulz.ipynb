{
 "cells": [
  {
   "cell_type": "markdown",
   "metadata": {},
   "source": [
    "# Interschulz Product & Company Crawler"
   ]
  },
  {
   "cell_type": "code",
   "execution_count": 1,
   "metadata": {},
   "outputs": [
    {
     "name": "stdout",
     "output_type": "stream",
     "text": [
      "Defaulting to user installation because normal site-packages is not writeable\n",
      "Requirement already satisfied: selenium in c:\\users\\user\\appdata\\roaming\\python\\python39\\site-packages (4.4.0)\n",
      "Requirement already satisfied: trio~=0.17 in c:\\users\\user\\appdata\\roaming\\python\\python39\\site-packages (from selenium) (0.21.0)\n",
      "Requirement already satisfied: trio-websocket~=0.9 in c:\\users\\user\\appdata\\roaming\\python\\python39\\site-packages (from selenium) (0.9.2)\n",
      "Requirement already satisfied: urllib3[secure,socks]~=1.26 in c:\\programdata\\anaconda3\\lib\\site-packages (from selenium) (1.26.9)\n",
      "Requirement already satisfied: idna in c:\\programdata\\anaconda3\\lib\\site-packages (from trio~=0.17->selenium) (3.3)\n",
      "Requirement already satisfied: sortedcontainers in c:\\programdata\\anaconda3\\lib\\site-packages (from trio~=0.17->selenium) (2.4.0)\n",
      "Requirement already satisfied: async-generator>=1.9 in c:\\users\\user\\appdata\\roaming\\python\\python39\\site-packages (from trio~=0.17->selenium) (1.10)\n",
      "Requirement already satisfied: cffi>=1.14 in c:\\programdata\\anaconda3\\lib\\site-packages (from trio~=0.17->selenium) (1.15.0)\n",
      "Requirement already satisfied: attrs>=19.2.0 in c:\\programdata\\anaconda3\\lib\\site-packages (from trio~=0.17->selenium) (21.4.0)\n",
      "Requirement already satisfied: sniffio in c:\\programdata\\anaconda3\\lib\\site-packages (from trio~=0.17->selenium) (1.2.0)\n",
      "Requirement already satisfied: outcome in c:\\users\\user\\appdata\\roaming\\python\\python39\\site-packages (from trio~=0.17->selenium) (1.2.0)\n",
      "Requirement already satisfied: pycparser in c:\\programdata\\anaconda3\\lib\\site-packages (from cffi>=1.14->trio~=0.17->selenium) (2.21)\n",
      "Requirement already satisfied: wsproto>=0.14 in c:\\users\\user\\appdata\\roaming\\python\\python39\\site-packages (from trio-websocket~=0.9->selenium) (1.1.0)\n",
      "Requirement already satisfied: cryptography>=1.3.4 in c:\\programdata\\anaconda3\\lib\\site-packages (from urllib3[secure,socks]~=1.26->selenium) (3.4.8)\n",
      "Requirement already satisfied: certifi in c:\\programdata\\anaconda3\\lib\\site-packages (from urllib3[secure,socks]~=1.26->selenium) (2021.10.8)\n",
      "Requirement already satisfied: pyOpenSSL>=0.14 in c:\\programdata\\anaconda3\\lib\\site-packages (from urllib3[secure,socks]~=1.26->selenium) (21.0.0)\n",
      "Requirement already satisfied: PySocks!=1.5.7,<2.0,>=1.5.6 in c:\\programdata\\anaconda3\\lib\\site-packages (from urllib3[secure,socks]~=1.26->selenium) (1.7.1)\n",
      "Requirement already satisfied: six>=1.5.2 in c:\\programdata\\anaconda3\\lib\\site-packages (from pyOpenSSL>=0.14->urllib3[secure,socks]~=1.26->selenium) (1.16.0)\n",
      "Requirement already satisfied: h11<1,>=0.9.0 in c:\\users\\user\\appdata\\roaming\\python\\python39\\site-packages (from wsproto>=0.14->trio-websocket~=0.9->selenium) (0.13.0)\n",
      "Note: you may need to restart the kernel to use updated packages.\n"
     ]
    }
   ],
   "source": [
    "pip install selenium"
   ]
  },
  {
   "cell_type": "code",
   "execution_count": 3,
   "metadata": {},
   "outputs": [
    {
     "name": "stderr",
     "output_type": "stream",
     "text": [
      "C:\\Users\\user\\AppData\\Local\\Temp\\ipykernel_2504\\219171253.py:7: DeprecationWarning: executable_path has been deprecated, please pass in a Service object\n",
      "  driver = webdriver.Chrome(chromedriver)\n"
     ]
    },
    {
     "ename": "AttributeError",
     "evalue": "move_to requires a WebElement",
     "output_type": "error",
     "traceback": [
      "\u001b[1;31m---------------------------------------------------------------------------\u001b[0m",
      "\u001b[1;31mAttributeError\u001b[0m                            Traceback (most recent call last)",
      "\u001b[1;32mc:\\Users\\user\\Documents\\Code\\crawl\\Crawler4interschulz.ipynb 셀 3\u001b[0m in \u001b[0;36m<cell line: 15>\u001b[1;34m()\u001b[0m\n\u001b[0;32m     <a href='vscode-notebook-cell:/c%3A/Users/user/Documents/Code/crawl/Crawler4interschulz.ipynb#W2sZmlsZQ%3D%3D?line=14'>15</a>\u001b[0m \u001b[39mfor\u001b[39;00m i \u001b[39min\u001b[39;00m \u001b[39mrange\u001b[39m(\u001b[39m202\u001b[39m):\n\u001b[0;32m     <a href='vscode-notebook-cell:/c%3A/Users/user/Documents/Code/crawl/Crawler4interschulz.ipynb#W2sZmlsZQ%3D%3D?line=15'>16</a>\u001b[0m     bottom \u001b[39m=\u001b[39m driver\u001b[39m.\u001b[39mfind_element(By\u001b[39m.\u001b[39mCSS_SELECTOR,\u001b[39m\"\u001b[39m\u001b[39m#app > div.flex-container.flex-dir-column.fullheight > div.flex-child-shrink > section.c.footer.is-dark.module-theme-400\u001b[39m\u001b[39m\"\u001b[39m)\n\u001b[1;32m---> <a href='vscode-notebook-cell:/c%3A/Users/user/Documents/Code/crawl/Crawler4interschulz.ipynb#W2sZmlsZQ%3D%3D?line=16'>17</a>\u001b[0m     action\u001b[39m.\u001b[39;49mmove_to_element(bottom)\u001b[39m.\u001b[39mperform()\n\u001b[0;32m     <a href='vscode-notebook-cell:/c%3A/Users/user/Documents/Code/crawl/Crawler4interschulz.ipynb#W2sZmlsZQ%3D%3D?line=17'>18</a>\u001b[0m     driver\u001b[39m.\u001b[39mfind_element(By\u001b[39m.\u001b[39mXPATH,\u001b[39m'\u001b[39m\u001b[39m//*[@id=\u001b[39m\u001b[39m\"\u001b[39m\u001b[39msearch-results-reveal\u001b[39m\u001b[39m\"\u001b[39m\u001b[39m]/div/div[1]/div/div/div[2]/section/div/div[2]/div[2]/section/a[6]/i\u001b[39m\u001b[39m'\u001b[39m)\u001b[39m.\u001b[39mclick()\n\u001b[0;32m     <a href='vscode-notebook-cell:/c%3A/Users/user/Documents/Code/crawl/Crawler4interschulz.ipynb#W2sZmlsZQ%3D%3D?line=19'>20</a>\u001b[0m time\u001b[39m.\u001b[39msleep(\u001b[39m1\u001b[39m)\n",
      "File \u001b[1;32m~\\AppData\\Roaming\\Python\\Python39\\site-packages\\selenium\\webdriver\\common\\action_chains.py:250\u001b[0m, in \u001b[0;36mActionChains.move_to_element\u001b[1;34m(self, to_element)\u001b[0m\n\u001b[0;32m    242\u001b[0m \u001b[39mdef\u001b[39;00m \u001b[39mmove_to_element\u001b[39m(\u001b[39mself\u001b[39m, to_element):\n\u001b[0;32m    243\u001b[0m     \u001b[39m\"\"\"\u001b[39;00m\n\u001b[0;32m    244\u001b[0m \u001b[39m    Moving the mouse to the middle of an element.\u001b[39;00m\n\u001b[0;32m    245\u001b[0m \n\u001b[0;32m    246\u001b[0m \u001b[39m    :Args:\u001b[39;00m\n\u001b[0;32m    247\u001b[0m \u001b[39m     - to_element: The WebElement to move to.\u001b[39;00m\n\u001b[0;32m    248\u001b[0m \u001b[39m    \"\"\"\u001b[39;00m\n\u001b[1;32m--> 250\u001b[0m     \u001b[39mself\u001b[39;49m\u001b[39m.\u001b[39;49mw3c_actions\u001b[39m.\u001b[39;49mpointer_action\u001b[39m.\u001b[39;49mmove_to(to_element)\n\u001b[0;32m    251\u001b[0m     \u001b[39mself\u001b[39m\u001b[39m.\u001b[39mw3c_actions\u001b[39m.\u001b[39mkey_action\u001b[39m.\u001b[39mpause()\n\u001b[0;32m    253\u001b[0m     \u001b[39mreturn\u001b[39;00m \u001b[39mself\u001b[39m\n",
      "File \u001b[1;32m~\\AppData\\Roaming\\Python\\Python39\\site-packages\\selenium\\webdriver\\common\\actions\\pointer_actions.py:56\u001b[0m, in \u001b[0;36mPointerActions.move_to\u001b[1;34m(self, element, x, y, width, height, pressure, tangential_pressure, tilt_x, tilt_y, twist, altitude_angle, azimuth_angle)\u001b[0m\n\u001b[0;32m     52\u001b[0m \u001b[39mdef\u001b[39;00m \u001b[39mmove_to\u001b[39m(\u001b[39mself\u001b[39m, element, x\u001b[39m=\u001b[39m\u001b[39m0\u001b[39m, y\u001b[39m=\u001b[39m\u001b[39m0\u001b[39m, width\u001b[39m=\u001b[39m\u001b[39mNone\u001b[39;00m, height\u001b[39m=\u001b[39m\u001b[39mNone\u001b[39;00m, pressure\u001b[39m=\u001b[39m\u001b[39mNone\u001b[39;00m,\n\u001b[0;32m     53\u001b[0m             tangential_pressure\u001b[39m=\u001b[39m\u001b[39mNone\u001b[39;00m, tilt_x\u001b[39m=\u001b[39m\u001b[39mNone\u001b[39;00m, tilt_y\u001b[39m=\u001b[39m\u001b[39mNone\u001b[39;00m, twist\u001b[39m=\u001b[39m\u001b[39mNone\u001b[39;00m,\n\u001b[0;32m     54\u001b[0m             altitude_angle\u001b[39m=\u001b[39m\u001b[39mNone\u001b[39;00m, azimuth_angle\u001b[39m=\u001b[39m\u001b[39mNone\u001b[39;00m):\n\u001b[0;32m     55\u001b[0m     \u001b[39mif\u001b[39;00m \u001b[39mnot\u001b[39;00m \u001b[39misinstance\u001b[39m(element, WebElement):\n\u001b[1;32m---> 56\u001b[0m         \u001b[39mraise\u001b[39;00m \u001b[39mAttributeError\u001b[39;00m(\u001b[39m\"\u001b[39m\u001b[39mmove_to requires a WebElement\u001b[39m\u001b[39m\"\u001b[39m)\n\u001b[0;32m     58\u001b[0m     \u001b[39mself\u001b[39m\u001b[39m.\u001b[39msource\u001b[39m.\u001b[39mcreate_pointer_move(origin\u001b[39m=\u001b[39melement, duration\u001b[39m=\u001b[39m\u001b[39mself\u001b[39m\u001b[39m.\u001b[39m_duration, x\u001b[39m=\u001b[39m\u001b[39mint\u001b[39m(x), y\u001b[39m=\u001b[39m\u001b[39mint\u001b[39m(y),\n\u001b[0;32m     59\u001b[0m                                     width\u001b[39m=\u001b[39mwidth, height\u001b[39m=\u001b[39mheight, pressure\u001b[39m=\u001b[39mpressure,\n\u001b[0;32m     60\u001b[0m                                     tangential_pressure\u001b[39m=\u001b[39mtangential_pressure,\n\u001b[0;32m     61\u001b[0m                                     tilt_x\u001b[39m=\u001b[39mtilt_x, tilt_y\u001b[39m=\u001b[39mtilt_y, twist\u001b[39m=\u001b[39mtwist,\n\u001b[0;32m     62\u001b[0m                                     altitude_angle\u001b[39m=\u001b[39maltitude_angle, azimuth_angle\u001b[39m=\u001b[39mazimuth_angle)\n\u001b[0;32m     63\u001b[0m     \u001b[39mreturn\u001b[39;00m \u001b[39mself\u001b[39m\n",
      "\u001b[1;31mAttributeError\u001b[0m: move_to requires a WebElement"
     ]
    }
   ],
   "source": [
    "from selenium import webdriver\n",
    "from selenium.webdriver.common.action_chains import ActionChains\n",
    "from selenium.webdriver.common.by import By\n",
    "import time\n",
    "\n",
    "chromedriver = 'C:\\Code\\Webdriver\\chromedriver.exe'\n",
    "driver = webdriver.Chrome(chromedriver)\n",
    "action = ActionChains(driver)\n",
    "# 쿠키 없이 들어가면 아무정보도 안뜸\n",
    "driver.get('https://www.interschutz.de/en/')\n",
    "time.sleep(1)\n",
    "\n",
    "driver.get('https://www.interschutz.de/en/search/?category=ep')\n",
    "\n",
    "for i in range(202):\n",
    "    bottom = driver.find_element(By.CSS_SELECTOR,\"#app > div.flex-container.flex-dir-column.fullheight > div.flex-child-shrink > section.c.footer.is-dark.module-theme-400\")\n",
    "    action.move_to_element(bottom).perform()\n",
    "    driver.find_element(By.XPATH,'//*[@id=\"search-results-reveal\"]/div/div[1]/div/div/div[2]/section/div/div[2]/div[2]/section/a[6]/i').click()\n",
    "\n",
    "time.sleep(1)\n",
    "\n",
    "time.sleep(5)\n",
    "driver.quit()"
   ]
  },
  {
   "cell_type": "code",
   "execution_count": 4,
   "metadata": {},
   "outputs": [
    {
     "name": "stderr",
     "output_type": "stream",
     "text": [
      "C:\\Users\\user\\AppData\\Local\\Temp\\ipykernel_2504\\3052831934.py:12: DeprecationWarning: executable_path has been deprecated, please pass in a Service object\n",
      "  driver = webdriver.Chrome(chromedriver,chrome_options=chrome_options)\n",
      "C:\\Users\\user\\AppData\\Local\\Temp\\ipykernel_2504\\3052831934.py:12: DeprecationWarning: use options instead of chrome_options\n",
      "  driver = webdriver.Chrome(chromedriver,chrome_options=chrome_options)\n"
     ]
    }
   ],
   "source": [
    "from selenium import webdriver\n",
    "from selenium.webdriver.common.action_chains import ActionChains\n",
    "from selenium.webdriver.common.by import By\n",
    "import time\n",
    "from bs4 import BeautifulSoup\n",
    "\n",
    "# 속도 향상을 위한 이미지 로딩 제거\n",
    "chromedriver = 'C:\\Code\\Webdriver\\chromedriver.exe'\n",
    "chrome_options = webdriver.ChromeOptions()\n",
    "prefs = {\"profile.managed_default_content_settings.images\": 2}\n",
    "chrome_options.add_experimental_option(\"prefs\", prefs)\n",
    "driver = webdriver.Chrome(chromedriver,chrome_options=chrome_options)\n",
    "\n",
    "action = ActionChains(driver)\n",
    "# 쿠키 없이 들어가면 아무정보도 안뜸\n",
    "driver.get('https://www.interschutz.de/en/')\n",
    "time.sleep(1)\n",
    "\n",
    "driver.get('https://www.interschutz.de/en/search/?category=ep')\n",
    "# 마우스 오버\n",
    "#action = ActionChains(driver)\n",
    "#action.move_to_element(driver.find_element_by_xpath('//*[@id=\"app\"]/div[1]/div[3]/div/nav/div[3]/div[1]/button[2]')).perform()\n",
    "#driver.find_element_by_xpath('//*[@id=\"app\"]/div[1]/div[3]/div/div/div/a[5]').click()\n",
    "soup_list = []\n",
    "for i in range(202-1):\n",
    "    html = driver.page_source\n",
    "    soup = BeautifulSoup(html, 'html.parser')\n",
    "    #result = soup.find_all('o search snippet module-theme-100e')\n",
    "    #print(soup.text)\n",
    "    # Soup는 다 끝나고 한방에 로딩\n",
    "    soup_list.append(soup)\n",
    "    bottom = driver.find_element(By.CSS_SELECTOR,\"#app > div.flex-container.flex-dir-column.fullheight > div.flex-child-shrink > section.c.footer.is-dark.module-theme-400\")\n",
    "    action.move_to_element(bottom).perform()\n",
    "    #driver.find_element(By.XPATH,'/html/body/main/div[2]/div[1]/section[1]/form/section[2]/div/div[1]/div/div/div[2]/section/div/div[2]/div[2]/section/a[6]').click()\n",
    "\n",
    "    # Xpath 찾는속도 느려서 그냥 CSS SELECTOR 처리\n",
    "    try:\n",
    "        driver.find_element(By.CSS_SELECTOR,'#search-results-reveal > div > div.reveal-master > div > div > div.cell.search-results-list.medium-8 > section > div > div.grid-x.search-snippet-list-footer > div:nth-child(2) > section > a:nth-child(8)').click()\n",
    "    except:\n",
    "        driver.find_element(By.CSS_SELECTOR,'#search-results-reveal > div > div.reveal-master > div > div > div.cell.search-results-list.medium-8 > section > div > div.grid-x.search-snippet-list-footer > div:nth-child(2) > section > a:nth-child(7)').click()\n",
    "    time.sleep(1)\n",
    "\n",
    "driver.quit()"
   ]
  },
  {
   "cell_type": "code",
   "execution_count": 5,
   "metadata": {},
   "outputs": [],
   "source": [
    "link_list = []\n",
    "for i in soup_list:\n",
    "    temp_list = i.find_all('a','o link as-block fx dropshadow for-child')\n",
    "    for l in temp_list:\n",
    "        link_list.append(l.attrs['href'])"
   ]
  },
  {
   "cell_type": "code",
   "execution_count": 6,
   "metadata": {},
   "outputs": [
    {
     "name": "stderr",
     "output_type": "stream",
     "text": [
      "  3%|▎         | 114/4020 [01:43<58:55,  1.10it/s] \n"
     ]
    },
    {
     "ename": "KeyboardInterrupt",
     "evalue": "",
     "output_type": "error",
     "traceback": [
      "\u001b[1;31m---------------------------------------------------------------------------\u001b[0m",
      "\u001b[1;31mKeyboardInterrupt\u001b[0m                         Traceback (most recent call last)",
      "\u001b[1;32mc:\\Users\\user\\Documents\\Code\\crawl\\Crawler4interschulz.ipynb 셀 6\u001b[0m in \u001b[0;36m<cell line: 9>\u001b[1;34m()\u001b[0m\n\u001b[0;32m      <a href='vscode-notebook-cell:/c%3A/Users/user/Documents/Code/crawl/Crawler4interschulz.ipynb#W6sZmlsZQ%3D%3D?line=8'>9</a>\u001b[0m \u001b[39mfor\u001b[39;00m i \u001b[39min\u001b[39;00m tqdm(link_list):\n\u001b[0;32m     <a href='vscode-notebook-cell:/c%3A/Users/user/Documents/Code/crawl/Crawler4interschulz.ipynb#W6sZmlsZQ%3D%3D?line=9'>10</a>\u001b[0m     switch \u001b[39m=\u001b[39m i\u001b[39m.\u001b[39msplit(\u001b[39m\"\u001b[39m\u001b[39m/\u001b[39m\u001b[39m\"\u001b[39m)[\u001b[39m1\u001b[39m]\n\u001b[1;32m---> <a href='vscode-notebook-cell:/c%3A/Users/user/Documents/Code/crawl/Crawler4interschulz.ipynb#W6sZmlsZQ%3D%3D?line=10'>11</a>\u001b[0m     response \u001b[39m=\u001b[39m requests\u001b[39m.\u001b[39;49mget(base_url\u001b[39m+\u001b[39;49mi)\n\u001b[0;32m     <a href='vscode-notebook-cell:/c%3A/Users/user/Documents/Code/crawl/Crawler4interschulz.ipynb#W6sZmlsZQ%3D%3D?line=11'>12</a>\u001b[0m     html \u001b[39m=\u001b[39m response\u001b[39m.\u001b[39mtext\n\u001b[0;32m     <a href='vscode-notebook-cell:/c%3A/Users/user/Documents/Code/crawl/Crawler4interschulz.ipynb#W6sZmlsZQ%3D%3D?line=12'>13</a>\u001b[0m     soup \u001b[39m=\u001b[39m BeautifulSoup(html, \u001b[39m\"\u001b[39m\u001b[39mhtml.parser\u001b[39m\u001b[39m\"\u001b[39m)\n",
      "File \u001b[1;32mc:\\ProgramData\\Anaconda3\\lib\\site-packages\\requests\\api.py:75\u001b[0m, in \u001b[0;36mget\u001b[1;34m(url, params, **kwargs)\u001b[0m\n\u001b[0;32m     64\u001b[0m \u001b[39mdef\u001b[39;00m \u001b[39mget\u001b[39m(url, params\u001b[39m=\u001b[39m\u001b[39mNone\u001b[39;00m, \u001b[39m*\u001b[39m\u001b[39m*\u001b[39mkwargs):\n\u001b[0;32m     65\u001b[0m     \u001b[39mr\u001b[39m\u001b[39m\"\"\"Sends a GET request.\u001b[39;00m\n\u001b[0;32m     66\u001b[0m \n\u001b[0;32m     67\u001b[0m \u001b[39m    :param url: URL for the new :class:`Request` object.\u001b[39;00m\n\u001b[1;32m   (...)\u001b[0m\n\u001b[0;32m     72\u001b[0m \u001b[39m    :rtype: requests.Response\u001b[39;00m\n\u001b[0;32m     73\u001b[0m \u001b[39m    \"\"\"\u001b[39;00m\n\u001b[1;32m---> 75\u001b[0m     \u001b[39mreturn\u001b[39;00m request(\u001b[39m'\u001b[39m\u001b[39mget\u001b[39m\u001b[39m'\u001b[39m, url, params\u001b[39m=\u001b[39mparams, \u001b[39m*\u001b[39m\u001b[39m*\u001b[39mkwargs)\n",
      "File \u001b[1;32mc:\\ProgramData\\Anaconda3\\lib\\site-packages\\requests\\api.py:61\u001b[0m, in \u001b[0;36mrequest\u001b[1;34m(method, url, **kwargs)\u001b[0m\n\u001b[0;32m     57\u001b[0m \u001b[39m# By using the 'with' statement we are sure the session is closed, thus we\u001b[39;00m\n\u001b[0;32m     58\u001b[0m \u001b[39m# avoid leaving sockets open which can trigger a ResourceWarning in some\u001b[39;00m\n\u001b[0;32m     59\u001b[0m \u001b[39m# cases, and look like a memory leak in others.\u001b[39;00m\n\u001b[0;32m     60\u001b[0m \u001b[39mwith\u001b[39;00m sessions\u001b[39m.\u001b[39mSession() \u001b[39mas\u001b[39;00m session:\n\u001b[1;32m---> 61\u001b[0m     \u001b[39mreturn\u001b[39;00m session\u001b[39m.\u001b[39mrequest(method\u001b[39m=\u001b[39mmethod, url\u001b[39m=\u001b[39murl, \u001b[39m*\u001b[39m\u001b[39m*\u001b[39mkwargs)\n",
      "File \u001b[1;32mc:\\ProgramData\\Anaconda3\\lib\\site-packages\\requests\\sessions.py:529\u001b[0m, in \u001b[0;36mSession.request\u001b[1;34m(self, method, url, params, data, headers, cookies, files, auth, timeout, allow_redirects, proxies, hooks, stream, verify, cert, json)\u001b[0m\n\u001b[0;32m    524\u001b[0m send_kwargs \u001b[39m=\u001b[39m {\n\u001b[0;32m    525\u001b[0m     \u001b[39m'\u001b[39m\u001b[39mtimeout\u001b[39m\u001b[39m'\u001b[39m: timeout,\n\u001b[0;32m    526\u001b[0m     \u001b[39m'\u001b[39m\u001b[39mallow_redirects\u001b[39m\u001b[39m'\u001b[39m: allow_redirects,\n\u001b[0;32m    527\u001b[0m }\n\u001b[0;32m    528\u001b[0m send_kwargs\u001b[39m.\u001b[39mupdate(settings)\n\u001b[1;32m--> 529\u001b[0m resp \u001b[39m=\u001b[39m \u001b[39mself\u001b[39m\u001b[39m.\u001b[39msend(prep, \u001b[39m*\u001b[39m\u001b[39m*\u001b[39msend_kwargs)\n\u001b[0;32m    531\u001b[0m \u001b[39mreturn\u001b[39;00m resp\n",
      "File \u001b[1;32mc:\\ProgramData\\Anaconda3\\lib\\site-packages\\requests\\sessions.py:645\u001b[0m, in \u001b[0;36mSession.send\u001b[1;34m(self, request, **kwargs)\u001b[0m\n\u001b[0;32m    642\u001b[0m start \u001b[39m=\u001b[39m preferred_clock()\n\u001b[0;32m    644\u001b[0m \u001b[39m# Send the request\u001b[39;00m\n\u001b[1;32m--> 645\u001b[0m r \u001b[39m=\u001b[39m adapter\u001b[39m.\u001b[39msend(request, \u001b[39m*\u001b[39m\u001b[39m*\u001b[39mkwargs)\n\u001b[0;32m    647\u001b[0m \u001b[39m# Total elapsed time of the request (approximately)\u001b[39;00m\n\u001b[0;32m    648\u001b[0m elapsed \u001b[39m=\u001b[39m preferred_clock() \u001b[39m-\u001b[39m start\n",
      "File \u001b[1;32mc:\\ProgramData\\Anaconda3\\lib\\site-packages\\requests\\adapters.py:440\u001b[0m, in \u001b[0;36mHTTPAdapter.send\u001b[1;34m(self, request, stream, timeout, verify, cert, proxies)\u001b[0m\n\u001b[0;32m    438\u001b[0m \u001b[39mtry\u001b[39;00m:\n\u001b[0;32m    439\u001b[0m     \u001b[39mif\u001b[39;00m \u001b[39mnot\u001b[39;00m chunked:\n\u001b[1;32m--> 440\u001b[0m         resp \u001b[39m=\u001b[39m conn\u001b[39m.\u001b[39;49murlopen(\n\u001b[0;32m    441\u001b[0m             method\u001b[39m=\u001b[39;49mrequest\u001b[39m.\u001b[39;49mmethod,\n\u001b[0;32m    442\u001b[0m             url\u001b[39m=\u001b[39;49murl,\n\u001b[0;32m    443\u001b[0m             body\u001b[39m=\u001b[39;49mrequest\u001b[39m.\u001b[39;49mbody,\n\u001b[0;32m    444\u001b[0m             headers\u001b[39m=\u001b[39;49mrequest\u001b[39m.\u001b[39;49mheaders,\n\u001b[0;32m    445\u001b[0m             redirect\u001b[39m=\u001b[39;49m\u001b[39mFalse\u001b[39;49;00m,\n\u001b[0;32m    446\u001b[0m             assert_same_host\u001b[39m=\u001b[39;49m\u001b[39mFalse\u001b[39;49;00m,\n\u001b[0;32m    447\u001b[0m             preload_content\u001b[39m=\u001b[39;49m\u001b[39mFalse\u001b[39;49;00m,\n\u001b[0;32m    448\u001b[0m             decode_content\u001b[39m=\u001b[39;49m\u001b[39mFalse\u001b[39;49;00m,\n\u001b[0;32m    449\u001b[0m             retries\u001b[39m=\u001b[39;49m\u001b[39mself\u001b[39;49m\u001b[39m.\u001b[39;49mmax_retries,\n\u001b[0;32m    450\u001b[0m             timeout\u001b[39m=\u001b[39;49mtimeout\n\u001b[0;32m    451\u001b[0m         )\n\u001b[0;32m    453\u001b[0m     \u001b[39m# Send the request.\u001b[39;00m\n\u001b[0;32m    454\u001b[0m     \u001b[39melse\u001b[39;00m:\n\u001b[0;32m    455\u001b[0m         \u001b[39mif\u001b[39;00m \u001b[39mhasattr\u001b[39m(conn, \u001b[39m'\u001b[39m\u001b[39mproxy_pool\u001b[39m\u001b[39m'\u001b[39m):\n",
      "File \u001b[1;32mc:\\ProgramData\\Anaconda3\\lib\\site-packages\\urllib3\\connectionpool.py:703\u001b[0m, in \u001b[0;36mHTTPConnectionPool.urlopen\u001b[1;34m(self, method, url, body, headers, retries, redirect, assert_same_host, timeout, pool_timeout, release_conn, chunked, body_pos, **response_kw)\u001b[0m\n\u001b[0;32m    700\u001b[0m     \u001b[39mself\u001b[39m\u001b[39m.\u001b[39m_prepare_proxy(conn)\n\u001b[0;32m    702\u001b[0m \u001b[39m# Make the request on the httplib connection object.\u001b[39;00m\n\u001b[1;32m--> 703\u001b[0m httplib_response \u001b[39m=\u001b[39m \u001b[39mself\u001b[39;49m\u001b[39m.\u001b[39;49m_make_request(\n\u001b[0;32m    704\u001b[0m     conn,\n\u001b[0;32m    705\u001b[0m     method,\n\u001b[0;32m    706\u001b[0m     url,\n\u001b[0;32m    707\u001b[0m     timeout\u001b[39m=\u001b[39;49mtimeout_obj,\n\u001b[0;32m    708\u001b[0m     body\u001b[39m=\u001b[39;49mbody,\n\u001b[0;32m    709\u001b[0m     headers\u001b[39m=\u001b[39;49mheaders,\n\u001b[0;32m    710\u001b[0m     chunked\u001b[39m=\u001b[39;49mchunked,\n\u001b[0;32m    711\u001b[0m )\n\u001b[0;32m    713\u001b[0m \u001b[39m# If we're going to release the connection in ``finally:``, then\u001b[39;00m\n\u001b[0;32m    714\u001b[0m \u001b[39m# the response doesn't need to know about the connection. Otherwise\u001b[39;00m\n\u001b[0;32m    715\u001b[0m \u001b[39m# it will also try to release it and we'll have a double-release\u001b[39;00m\n\u001b[0;32m    716\u001b[0m \u001b[39m# mess.\u001b[39;00m\n\u001b[0;32m    717\u001b[0m response_conn \u001b[39m=\u001b[39m conn \u001b[39mif\u001b[39;00m \u001b[39mnot\u001b[39;00m release_conn \u001b[39melse\u001b[39;00m \u001b[39mNone\u001b[39;00m\n",
      "File \u001b[1;32mc:\\ProgramData\\Anaconda3\\lib\\site-packages\\urllib3\\connectionpool.py:449\u001b[0m, in \u001b[0;36mHTTPConnectionPool._make_request\u001b[1;34m(self, conn, method, url, timeout, chunked, **httplib_request_kw)\u001b[0m\n\u001b[0;32m    444\u001b[0m             httplib_response \u001b[39m=\u001b[39m conn\u001b[39m.\u001b[39mgetresponse()\n\u001b[0;32m    445\u001b[0m         \u001b[39mexcept\u001b[39;00m \u001b[39mBaseException\u001b[39;00m \u001b[39mas\u001b[39;00m e:\n\u001b[0;32m    446\u001b[0m             \u001b[39m# Remove the TypeError from the exception chain in\u001b[39;00m\n\u001b[0;32m    447\u001b[0m             \u001b[39m# Python 3 (including for exceptions like SystemExit).\u001b[39;00m\n\u001b[0;32m    448\u001b[0m             \u001b[39m# Otherwise it looks like a bug in the code.\u001b[39;00m\n\u001b[1;32m--> 449\u001b[0m             six\u001b[39m.\u001b[39;49mraise_from(e, \u001b[39mNone\u001b[39;49;00m)\n\u001b[0;32m    450\u001b[0m \u001b[39mexcept\u001b[39;00m (SocketTimeout, BaseSSLError, SocketError) \u001b[39mas\u001b[39;00m e:\n\u001b[0;32m    451\u001b[0m     \u001b[39mself\u001b[39m\u001b[39m.\u001b[39m_raise_timeout(err\u001b[39m=\u001b[39me, url\u001b[39m=\u001b[39murl, timeout_value\u001b[39m=\u001b[39mread_timeout)\n",
      "File \u001b[1;32m<string>:3\u001b[0m, in \u001b[0;36mraise_from\u001b[1;34m(value, from_value)\u001b[0m\n",
      "File \u001b[1;32mc:\\ProgramData\\Anaconda3\\lib\\site-packages\\urllib3\\connectionpool.py:444\u001b[0m, in \u001b[0;36mHTTPConnectionPool._make_request\u001b[1;34m(self, conn, method, url, timeout, chunked, **httplib_request_kw)\u001b[0m\n\u001b[0;32m    441\u001b[0m \u001b[39mexcept\u001b[39;00m \u001b[39mTypeError\u001b[39;00m:\n\u001b[0;32m    442\u001b[0m     \u001b[39m# Python 3\u001b[39;00m\n\u001b[0;32m    443\u001b[0m     \u001b[39mtry\u001b[39;00m:\n\u001b[1;32m--> 444\u001b[0m         httplib_response \u001b[39m=\u001b[39m conn\u001b[39m.\u001b[39;49mgetresponse()\n\u001b[0;32m    445\u001b[0m     \u001b[39mexcept\u001b[39;00m \u001b[39mBaseException\u001b[39;00m \u001b[39mas\u001b[39;00m e:\n\u001b[0;32m    446\u001b[0m         \u001b[39m# Remove the TypeError from the exception chain in\u001b[39;00m\n\u001b[0;32m    447\u001b[0m         \u001b[39m# Python 3 (including for exceptions like SystemExit).\u001b[39;00m\n\u001b[0;32m    448\u001b[0m         \u001b[39m# Otherwise it looks like a bug in the code.\u001b[39;00m\n\u001b[0;32m    449\u001b[0m         six\u001b[39m.\u001b[39mraise_from(e, \u001b[39mNone\u001b[39;00m)\n",
      "File \u001b[1;32mc:\\ProgramData\\Anaconda3\\lib\\http\\client.py:1377\u001b[0m, in \u001b[0;36mHTTPConnection.getresponse\u001b[1;34m(self)\u001b[0m\n\u001b[0;32m   1375\u001b[0m \u001b[39mtry\u001b[39;00m:\n\u001b[0;32m   1376\u001b[0m     \u001b[39mtry\u001b[39;00m:\n\u001b[1;32m-> 1377\u001b[0m         response\u001b[39m.\u001b[39;49mbegin()\n\u001b[0;32m   1378\u001b[0m     \u001b[39mexcept\u001b[39;00m \u001b[39mConnectionError\u001b[39;00m:\n\u001b[0;32m   1379\u001b[0m         \u001b[39mself\u001b[39m\u001b[39m.\u001b[39mclose()\n",
      "File \u001b[1;32mc:\\ProgramData\\Anaconda3\\lib\\http\\client.py:320\u001b[0m, in \u001b[0;36mHTTPResponse.begin\u001b[1;34m(self)\u001b[0m\n\u001b[0;32m    318\u001b[0m \u001b[39m# read until we get a non-100 response\u001b[39;00m\n\u001b[0;32m    319\u001b[0m \u001b[39mwhile\u001b[39;00m \u001b[39mTrue\u001b[39;00m:\n\u001b[1;32m--> 320\u001b[0m     version, status, reason \u001b[39m=\u001b[39m \u001b[39mself\u001b[39;49m\u001b[39m.\u001b[39;49m_read_status()\n\u001b[0;32m    321\u001b[0m     \u001b[39mif\u001b[39;00m status \u001b[39m!=\u001b[39m CONTINUE:\n\u001b[0;32m    322\u001b[0m         \u001b[39mbreak\u001b[39;00m\n",
      "File \u001b[1;32mc:\\ProgramData\\Anaconda3\\lib\\http\\client.py:281\u001b[0m, in \u001b[0;36mHTTPResponse._read_status\u001b[1;34m(self)\u001b[0m\n\u001b[0;32m    280\u001b[0m \u001b[39mdef\u001b[39;00m \u001b[39m_read_status\u001b[39m(\u001b[39mself\u001b[39m):\n\u001b[1;32m--> 281\u001b[0m     line \u001b[39m=\u001b[39m \u001b[39mstr\u001b[39m(\u001b[39mself\u001b[39;49m\u001b[39m.\u001b[39;49mfp\u001b[39m.\u001b[39;49mreadline(_MAXLINE \u001b[39m+\u001b[39;49m \u001b[39m1\u001b[39;49m), \u001b[39m\"\u001b[39m\u001b[39miso-8859-1\u001b[39m\u001b[39m\"\u001b[39m)\n\u001b[0;32m    282\u001b[0m     \u001b[39mif\u001b[39;00m \u001b[39mlen\u001b[39m(line) \u001b[39m>\u001b[39m _MAXLINE:\n\u001b[0;32m    283\u001b[0m         \u001b[39mraise\u001b[39;00m LineTooLong(\u001b[39m\"\u001b[39m\u001b[39mstatus line\u001b[39m\u001b[39m\"\u001b[39m)\n",
      "File \u001b[1;32mc:\\ProgramData\\Anaconda3\\lib\\socket.py:704\u001b[0m, in \u001b[0;36mSocketIO.readinto\u001b[1;34m(self, b)\u001b[0m\n\u001b[0;32m    702\u001b[0m \u001b[39mwhile\u001b[39;00m \u001b[39mTrue\u001b[39;00m:\n\u001b[0;32m    703\u001b[0m     \u001b[39mtry\u001b[39;00m:\n\u001b[1;32m--> 704\u001b[0m         \u001b[39mreturn\u001b[39;00m \u001b[39mself\u001b[39;49m\u001b[39m.\u001b[39;49m_sock\u001b[39m.\u001b[39;49mrecv_into(b)\n\u001b[0;32m    705\u001b[0m     \u001b[39mexcept\u001b[39;00m timeout:\n\u001b[0;32m    706\u001b[0m         \u001b[39mself\u001b[39m\u001b[39m.\u001b[39m_timeout_occurred \u001b[39m=\u001b[39m \u001b[39mTrue\u001b[39;00m\n",
      "File \u001b[1;32mc:\\ProgramData\\Anaconda3\\lib\\ssl.py:1241\u001b[0m, in \u001b[0;36mSSLSocket.recv_into\u001b[1;34m(self, buffer, nbytes, flags)\u001b[0m\n\u001b[0;32m   1237\u001b[0m     \u001b[39mif\u001b[39;00m flags \u001b[39m!=\u001b[39m \u001b[39m0\u001b[39m:\n\u001b[0;32m   1238\u001b[0m         \u001b[39mraise\u001b[39;00m \u001b[39mValueError\u001b[39;00m(\n\u001b[0;32m   1239\u001b[0m           \u001b[39m\"\u001b[39m\u001b[39mnon-zero flags not allowed in calls to recv_into() on \u001b[39m\u001b[39m%s\u001b[39;00m\u001b[39m\"\u001b[39m \u001b[39m%\u001b[39m\n\u001b[0;32m   1240\u001b[0m           \u001b[39mself\u001b[39m\u001b[39m.\u001b[39m\u001b[39m__class__\u001b[39m)\n\u001b[1;32m-> 1241\u001b[0m     \u001b[39mreturn\u001b[39;00m \u001b[39mself\u001b[39;49m\u001b[39m.\u001b[39;49mread(nbytes, buffer)\n\u001b[0;32m   1242\u001b[0m \u001b[39melse\u001b[39;00m:\n\u001b[0;32m   1243\u001b[0m     \u001b[39mreturn\u001b[39;00m \u001b[39msuper\u001b[39m()\u001b[39m.\u001b[39mrecv_into(buffer, nbytes, flags)\n",
      "File \u001b[1;32mc:\\ProgramData\\Anaconda3\\lib\\ssl.py:1099\u001b[0m, in \u001b[0;36mSSLSocket.read\u001b[1;34m(self, len, buffer)\u001b[0m\n\u001b[0;32m   1097\u001b[0m \u001b[39mtry\u001b[39;00m:\n\u001b[0;32m   1098\u001b[0m     \u001b[39mif\u001b[39;00m buffer \u001b[39mis\u001b[39;00m \u001b[39mnot\u001b[39;00m \u001b[39mNone\u001b[39;00m:\n\u001b[1;32m-> 1099\u001b[0m         \u001b[39mreturn\u001b[39;00m \u001b[39mself\u001b[39;49m\u001b[39m.\u001b[39;49m_sslobj\u001b[39m.\u001b[39;49mread(\u001b[39mlen\u001b[39;49m, buffer)\n\u001b[0;32m   1100\u001b[0m     \u001b[39melse\u001b[39;00m:\n\u001b[0;32m   1101\u001b[0m         \u001b[39mreturn\u001b[39;00m \u001b[39mself\u001b[39m\u001b[39m.\u001b[39m_sslobj\u001b[39m.\u001b[39mread(\u001b[39mlen\u001b[39m)\n",
      "\u001b[1;31mKeyboardInterrupt\u001b[0m: "
     ]
    }
   ],
   "source": [
    "import requests\n",
    "import pandas as pd\n",
    "from tqdm import tqdm\n",
    "\n",
    "prd_list = [] # 제품만 긁어도 됨\n",
    "\n",
    "base_url = \"https://www.interschutz.de/\"\n",
    "\n",
    "for i in tqdm(link_list):\n",
    "    switch = i.split(\"/\")[1]\n",
    "    response = requests.get(base_url+i)\n",
    "    html = response.text\n",
    "    soup = BeautifulSoup(html, \"html.parser\")\n",
    "    if switch == 'product': #제품일 경우\n",
    "        #print(\"제품 :\",len(prd_list)+1)\n",
    "        soup.append(prd_list)\n",
    "    else:\n",
    "        pass\n"
   ]
  },
  {
   "cell_type": "code",
   "execution_count": 14,
   "metadata": {},
   "outputs": [],
   "source": [
    "prd_link_list = []\n",
    "for i in link_list:\n",
    "    switch = i.split(\"/\")[1]\n",
    "    if switch == 'product':\n",
    "        prd_link_list.append(i)"
   ]
  },
  {
   "cell_type": "code",
   "execution_count": 16,
   "metadata": {},
   "outputs": [
    {
     "name": "stderr",
     "output_type": "stream",
     "text": [
      "100%|██████████| 2668/2668 [30:32<00:00,  1.46it/s]  \n"
     ]
    }
   ],
   "source": [
    "import requests\n",
    "import pandas as pd\n",
    "from tqdm import tqdm\n",
    "\n",
    "prd_soup_list = [] # 제품만 긁어도 됨\n",
    "\n",
    "base_url = \"https://www.interschutz.de/\"\n",
    "\n",
    "for i in tqdm(prd_link_list):\n",
    "    switch = i.split(\"/\")[1]\n",
    "    response = requests.get(base_url+i)\n",
    "    html = response.text\n",
    "    soup = BeautifulSoup(html, \"html.parser\")\n",
    "    prd_soup_list.append(soup)"
   ]
  },
  {
   "cell_type": "code",
   "execution_count": 69,
   "metadata": {},
   "outputs": [
    {
     "name": "stdout",
     "output_type": "stream",
     "text": [
      "<h2 class=\"t set-700-bold as-headline\">Contact</h2>\n",
      "[<li>Huangjiabu, Yuyao -</li>, <li>315466 Ningbo</li>, <li>China</li>, <li>\n",
      "<o-link href=\"http://www.fuhua-valve.com\" underline=\"\">Website</o-link>\n",
      "</li>, <li>Phone: +86 574 62017181</li>, <li>Fax: +86 574 62016923</li>]\n",
      "<h2 class=\"t set-250-bold as-headline\">Otto Ganter GmbH &amp; Co. KG Normteilefabrik</h2>\n",
      "[<li>Triberger Str. 3</li>, <li>78120 Furtwangen</li>, <li>Germany</li>, <li>\n",
      "<o-link href=\"http://www.ganternorm.com\" underline=\"\">Website</o-link>\n",
      "</li>, <li>Phone: +49 7723 65070</li>, <li>Fax: +49 7723 4659</li>, <li>Brunn am Gebirge</li>, <li>AT</li>, <li>Soraluze </li>, <li>ES</li>, <li>Piaseczno</li>, <li>PL</li>, <li>Shanghai</li>, <li>CN</li>, <li>Istanbul</li>, <li>TR</li>, <li>Prag</li>, <li>CZ</li>, <li>Noida</li>, <li>IN</li>, <li>New Berlin</li>, <li>US</li>]\n"
     ]
    }
   ],
   "source": [
    "for i in prd_soup_list[:2]:\n",
    "    #print(i)\n",
    "    temp = i.select_one(\"#tabs-top\")\n",
    "    print(temp.select_one('h2'))\n",
    "    print(temp.select('li'))\n",
    "    #print(i.select_one(\"#app > div.flex-container.flex-dir-column.fullheight > div.flex-child-grow > div > header > div > div > div.cell.small-12.page-intro-content.medium-10.large-9 > div.page-intro-description.with-function-bar > div.grid-x.grid-padding-x > div.cell.auto > div:nth-child(1)\"))\n",
    "    #print(i.select(\"#app > div.flex-container.flex-dir-column.fullheight > div.flex-child-grow > div > header > div > div > div.cell.small-12.page-intro-content.medium-10.large-9 > div.t.set-800-bold > h1\"))"
   ]
  },
  {
   "cell_type": "code",
   "execution_count": 77,
   "metadata": {},
   "outputs": [
    {
     "name": "stderr",
     "output_type": "stream",
     "text": [
      "C:\\Users\\user\\AppData\\Local\\Temp\\ipykernel_2504\\2980603150.py:12: DeprecationWarning: executable_path has been deprecated, please pass in a Service object\n",
      "  driver = webdriver.Chrome(chromedriver,chrome_options=chrome_options)\n",
      "C:\\Users\\user\\AppData\\Local\\Temp\\ipykernel_2504\\2980603150.py:12: DeprecationWarning: use options instead of chrome_options\n",
      "  driver = webdriver.Chrome(chromedriver,chrome_options=chrome_options)\n",
      "  1%|▏         | 39/2668 [01:31<1:42:50,  2.35s/it]\n"
     ]
    },
    {
     "ename": "NoSuchElementException",
     "evalue": "Message: no such element: Unable to locate element: {\"method\":\"css selector\",\"selector\":\"#detailProductId1 > div:nth-child(2) > div > div > div > div > p\"}\n  (Session info: chrome=103.0.5060.134)\nStacktrace:\nBacktrace:\n\tOrdinal0 [0x008E5FD3+2187219]\n\tOrdinal0 [0x0087E6D1+1763025]\n\tOrdinal0 [0x00793E78+802424]\n\tOrdinal0 [0x007C1C10+990224]\n\tOrdinal0 [0x007C1EAB+990891]\n\tOrdinal0 [0x007EEC92+1174674]\n\tOrdinal0 [0x007DCBD4+1100756]\n\tOrdinal0 [0x007ECFC2+1167298]\n\tOrdinal0 [0x007DC9A6+1100198]\n\tOrdinal0 [0x007B6F80+946048]\n\tOrdinal0 [0x007B7E76+949878]\n\tGetHandleVerifier [0x00B890C2+2721218]\n\tGetHandleVerifier [0x00B7AAF0+2662384]\n\tGetHandleVerifier [0x0097137A+526458]\n\tGetHandleVerifier [0x00970416+522518]\n\tOrdinal0 [0x00884EAB+1789611]\n\tOrdinal0 [0x008897A8+1808296]\n\tOrdinal0 [0x00889895+1808533]\n\tOrdinal0 [0x008926C1+1844929]\n\tBaseThreadInitThunk [0x772EFA29+25]\n\tRtlGetAppContainerNamedObjectPath [0x77437A9E+286]\n\tRtlGetAppContainerNamedObjectPath [0x77437A6E+238]\n",
     "output_type": "error",
     "traceback": [
      "\u001b[1;31m---------------------------------------------------------------------------\u001b[0m",
      "\u001b[1;31mNoSuchElementException\u001b[0m                    Traceback (most recent call last)",
      "\u001b[1;32mc:\\Users\\user\\Documents\\Code\\crawl\\Crawler4interschulz.ipynb 셀 10\u001b[0m in \u001b[0;36m<cell line: 23>\u001b[1;34m()\u001b[0m\n\u001b[0;32m     <a href='vscode-notebook-cell:/c%3A/Users/user/Documents/Code/crawl/Crawler4interschulz.ipynb#X15sZmlsZQ%3D%3D?line=30'>31</a>\u001b[0m v2 \u001b[39m=\u001b[39m driver\u001b[39m.\u001b[39mfind_element(By\u001b[39m.\u001b[39mCSS_SELECTOR,\u001b[39m\"\u001b[39m\u001b[39m#app > div.flex-container.flex-dir-column.fullheight > div.flex-child-grow > div > header > div > div > div.cell.small-12.page-intro-content.medium-10.large-9 > div.page-intro-description.with-function-bar > div.grid-x.grid-padding-x > div.cell.auto > div:nth-child(1)\u001b[39m\u001b[39m\"\u001b[39m)\u001b[39m.\u001b[39mtext\n\u001b[0;32m     <a href='vscode-notebook-cell:/c%3A/Users/user/Documents/Code/crawl/Crawler4interschulz.ipynb#X15sZmlsZQ%3D%3D?line=31'>32</a>\u001b[0m \u001b[39m# 설명\u001b[39;00m\n\u001b[1;32m---> <a href='vscode-notebook-cell:/c%3A/Users/user/Documents/Code/crawl/Crawler4interschulz.ipynb#X15sZmlsZQ%3D%3D?line=32'>33</a>\u001b[0m v3 \u001b[39m=\u001b[39m driver\u001b[39m.\u001b[39;49mfind_element(By\u001b[39m.\u001b[39;49mCSS_SELECTOR,\u001b[39m\"\u001b[39;49m\u001b[39m#detailProductId1 > div:nth-child(2) > div > div > div > div > p\u001b[39;49m\u001b[39m\"\u001b[39;49m)\u001b[39m.\u001b[39mtext\n\u001b[0;32m     <a href='vscode-notebook-cell:/c%3A/Users/user/Documents/Code/crawl/Crawler4interschulz.ipynb#X15sZmlsZQ%3D%3D?line=33'>34</a>\u001b[0m \u001b[39m# 제품그룹\u001b[39;00m\n\u001b[0;32m     <a href='vscode-notebook-cell:/c%3A/Users/user/Documents/Code/crawl/Crawler4interschulz.ipynb#X15sZmlsZQ%3D%3D?line=34'>35</a>\u001b[0m \u001b[39mtry\u001b[39;00m:\n",
      "File \u001b[1;32m~\\AppData\\Roaming\\Python\\Python39\\site-packages\\selenium\\webdriver\\remote\\webdriver.py:856\u001b[0m, in \u001b[0;36mWebDriver.find_element\u001b[1;34m(self, by, value)\u001b[0m\n\u001b[0;32m    853\u001b[0m     by \u001b[39m=\u001b[39m By\u001b[39m.\u001b[39mCSS_SELECTOR\n\u001b[0;32m    854\u001b[0m     value \u001b[39m=\u001b[39m \u001b[39m'\u001b[39m\u001b[39m[name=\u001b[39m\u001b[39m\"\u001b[39m\u001b[39m%s\u001b[39;00m\u001b[39m\"\u001b[39m\u001b[39m]\u001b[39m\u001b[39m'\u001b[39m \u001b[39m%\u001b[39m value\n\u001b[1;32m--> 856\u001b[0m \u001b[39mreturn\u001b[39;00m \u001b[39mself\u001b[39;49m\u001b[39m.\u001b[39;49mexecute(Command\u001b[39m.\u001b[39;49mFIND_ELEMENT, {\n\u001b[0;32m    857\u001b[0m     \u001b[39m'\u001b[39;49m\u001b[39musing\u001b[39;49m\u001b[39m'\u001b[39;49m: by,\n\u001b[0;32m    858\u001b[0m     \u001b[39m'\u001b[39;49m\u001b[39mvalue\u001b[39;49m\u001b[39m'\u001b[39;49m: value})[\u001b[39m'\u001b[39m\u001b[39mvalue\u001b[39m\u001b[39m'\u001b[39m]\n",
      "File \u001b[1;32m~\\AppData\\Roaming\\Python\\Python39\\site-packages\\selenium\\webdriver\\remote\\webdriver.py:434\u001b[0m, in \u001b[0;36mWebDriver.execute\u001b[1;34m(self, driver_command, params)\u001b[0m\n\u001b[0;32m    432\u001b[0m response \u001b[39m=\u001b[39m \u001b[39mself\u001b[39m\u001b[39m.\u001b[39mcommand_executor\u001b[39m.\u001b[39mexecute(driver_command, params)\n\u001b[0;32m    433\u001b[0m \u001b[39mif\u001b[39;00m response:\n\u001b[1;32m--> 434\u001b[0m     \u001b[39mself\u001b[39;49m\u001b[39m.\u001b[39;49merror_handler\u001b[39m.\u001b[39;49mcheck_response(response)\n\u001b[0;32m    435\u001b[0m     response[\u001b[39m'\u001b[39m\u001b[39mvalue\u001b[39m\u001b[39m'\u001b[39m] \u001b[39m=\u001b[39m \u001b[39mself\u001b[39m\u001b[39m.\u001b[39m_unwrap_value(\n\u001b[0;32m    436\u001b[0m         response\u001b[39m.\u001b[39mget(\u001b[39m'\u001b[39m\u001b[39mvalue\u001b[39m\u001b[39m'\u001b[39m, \u001b[39mNone\u001b[39;00m))\n\u001b[0;32m    437\u001b[0m     \u001b[39mreturn\u001b[39;00m response\n",
      "File \u001b[1;32m~\\AppData\\Roaming\\Python\\Python39\\site-packages\\selenium\\webdriver\\remote\\errorhandler.py:243\u001b[0m, in \u001b[0;36mErrorHandler.check_response\u001b[1;34m(self, response)\u001b[0m\n\u001b[0;32m    241\u001b[0m         alert_text \u001b[39m=\u001b[39m value[\u001b[39m'\u001b[39m\u001b[39malert\u001b[39m\u001b[39m'\u001b[39m]\u001b[39m.\u001b[39mget(\u001b[39m'\u001b[39m\u001b[39mtext\u001b[39m\u001b[39m'\u001b[39m)\n\u001b[0;32m    242\u001b[0m     \u001b[39mraise\u001b[39;00m exception_class(message, screen, stacktrace, alert_text)  \u001b[39m# type: ignore[call-arg]  # mypy is not smart enough here\u001b[39;00m\n\u001b[1;32m--> 243\u001b[0m \u001b[39mraise\u001b[39;00m exception_class(message, screen, stacktrace)\n",
      "\u001b[1;31mNoSuchElementException\u001b[0m: Message: no such element: Unable to locate element: {\"method\":\"css selector\",\"selector\":\"#detailProductId1 > div:nth-child(2) > div > div > div > div > p\"}\n  (Session info: chrome=103.0.5060.134)\nStacktrace:\nBacktrace:\n\tOrdinal0 [0x008E5FD3+2187219]\n\tOrdinal0 [0x0087E6D1+1763025]\n\tOrdinal0 [0x00793E78+802424]\n\tOrdinal0 [0x007C1C10+990224]\n\tOrdinal0 [0x007C1EAB+990891]\n\tOrdinal0 [0x007EEC92+1174674]\n\tOrdinal0 [0x007DCBD4+1100756]\n\tOrdinal0 [0x007ECFC2+1167298]\n\tOrdinal0 [0x007DC9A6+1100198]\n\tOrdinal0 [0x007B6F80+946048]\n\tOrdinal0 [0x007B7E76+949878]\n\tGetHandleVerifier [0x00B890C2+2721218]\n\tGetHandleVerifier [0x00B7AAF0+2662384]\n\tGetHandleVerifier [0x0097137A+526458]\n\tGetHandleVerifier [0x00970416+522518]\n\tOrdinal0 [0x00884EAB+1789611]\n\tOrdinal0 [0x008897A8+1808296]\n\tOrdinal0 [0x00889895+1808533]\n\tOrdinal0 [0x008926C1+1844929]\n\tBaseThreadInitThunk [0x772EFA29+25]\n\tRtlGetAppContainerNamedObjectPath [0x77437A9E+286]\n\tRtlGetAppContainerNamedObjectPath [0x77437A6E+238]\n"
     ]
    }
   ],
   "source": [
    "from selenium import webdriver\n",
    "from selenium.webdriver.common.action_chains import ActionChains\n",
    "from selenium.webdriver.common.by import By\n",
    "import time\n",
    "from tqdm import tqdm\n",
    "from bs4 import BeautifulSoup\n",
    "# 속도 향상을 위한 이미지 로딩 제거\n",
    "chromedriver = 'C:\\Code\\Webdriver\\chromedriver.exe'\n",
    "chrome_options = webdriver.ChromeOptions()\n",
    "prefs = {\"profile.managed_default_content_settings.images\": 2}\n",
    "chrome_options.add_experimental_option(\"prefs\", prefs)\n",
    "driver = webdriver.Chrome(chromedriver,chrome_options=chrome_options)\n",
    "action = ActionChains(driver)\n",
    "\n",
    "v1_list = []\n",
    "v2_list = []\n",
    "v3_list = []\n",
    "v4_list = []\n",
    "v5_list = []\n",
    "\n",
    "base_url = \"https://www.interschutz.de/\"\n",
    "\n",
    "for i in tqdm(prd_link_list):\n",
    "    url = base_url+i\n",
    "    # URL 접속\n",
    "    driver.get(url)\n",
    "\n",
    "    # 제품명\n",
    "    v1 = driver.find_element(By.CSS_SELECTOR,\"#app > div.flex-container.flex-dir-column.fullheight > div.flex-child-grow > div > header > div > div > div.cell.small-12.page-intro-content.medium-10.large-9 > div.t.set-800-bold > h1\").text\n",
    "    # 제조사\n",
    "    v2 = driver.find_element(By.CSS_SELECTOR,\"#app > div.flex-container.flex-dir-column.fullheight > div.flex-child-grow > div > header > div > div > div.cell.small-12.page-intro-content.medium-10.large-9 > div.page-intro-description.with-function-bar > div.grid-x.grid-padding-x > div.cell.auto > div:nth-child(1)\").text\n",
    "    # 설명\n",
    "    v3 = driver.find_element(By.CSS_SELECTOR,\"#detailProductId1 > div:nth-child(2) > div > div > div > div > p\").text\n",
    "    # 제품그룹\n",
    "    try:\n",
    "        v4 = driver.find_element(By.CSS_SELECTOR,\"#detailProductId1 > div:nth-child(2) > div > div > div > div > ul\").text.split(\"\\n\")\n",
    "    except:\n",
    "        v4.append([])\n",
    "    # 제조사명\n",
    "    v5 = driver.find_element(By.CSS_SELECTOR,\"#tabs-top > div.tabs-track > div > div.is-active > div > div > div:nth-child(1) > h2\").text\n",
    "\n",
    "    v1_list.append(v1)\n",
    "    v2_list.append(v2)\n",
    "    v3_list.append(v3)\n",
    "    v4_list.append(v4)\n",
    "    v5_list.append(v5)\n"
   ]
  },
  {
   "cell_type": "code",
   "execution_count": 80,
   "metadata": {},
   "outputs": [
    {
     "name": "stderr",
     "output_type": "stream",
     "text": [
      "C:\\Users\\user\\AppData\\Local\\Temp\\ipykernel_2504\\3933938798.py:13: DeprecationWarning: executable_path has been deprecated, please pass in a Service object\n",
      "  driver = webdriver.Chrome(chromedriver,chrome_options=chrome_options)\n",
      "C:\\Users\\user\\AppData\\Local\\Temp\\ipykernel_2504\\3933938798.py:13: DeprecationWarning: use options instead of chrome_options\n",
      "  driver = webdriver.Chrome(chromedriver,chrome_options=chrome_options)\n",
      "100%|██████████| 2668/2668 [1:42:29<00:00,  2.30s/it]\n"
     ]
    }
   ],
   "source": [
    "from selenium import webdriver\n",
    "from selenium.webdriver.common.action_chains import ActionChains\n",
    "from selenium.webdriver.common.by import By\n",
    "import time\n",
    "import numpy as np\n",
    "from tqdm import tqdm\n",
    "from bs4 import BeautifulSoup\n",
    "# 속도 향상을 위한 이미지 로딩 제거\n",
    "chromedriver = 'C:\\Code\\Webdriver\\chromedriver.exe'\n",
    "chrome_options = webdriver.ChromeOptions()\n",
    "prefs = {\"profile.managed_default_content_settings.images\": 2}\n",
    "chrome_options.add_experimental_option(\"prefs\", prefs)\n",
    "driver = webdriver.Chrome(chromedriver,chrome_options=chrome_options)\n",
    "action = ActionChains(driver)\n",
    "\n",
    "v1_list = []\n",
    "v2_list = []\n",
    "v3_list = []\n",
    "v4_list = []\n",
    "v5_list = []\n",
    "v6_list = []\n",
    "\n",
    "base_url = \"https://www.interschutz.de/\"\n",
    "\n",
    "for i in tqdm(prd_link_list):\n",
    "    url = base_url+i\n",
    "    # URL 접속\n",
    "    driver.get(url)\n",
    "\n",
    "    # 제품명\n",
    "    try:\n",
    "        v1 = driver.find_element(By.CSS_SELECTOR,\"#app > div.flex-container.flex-dir-column.fullheight > div.flex-child-grow > div > header > div > div > div.cell.small-12.page-intro-content.medium-10.large-9 > div.t.set-800-bold > h1\").text\n",
    "    except:\n",
    "        v1 = np.nan\n",
    "    # 제조사\n",
    "    try:\n",
    "        v2 = driver.find_element(By.CSS_SELECTOR,\"#app > div.flex-container.flex-dir-column.fullheight > div.flex-child-grow > div > header > div > div > div.cell.small-12.page-intro-content.medium-10.large-9 > div.page-intro-description.with-function-bar > div.grid-x.grid-padding-x > div.cell.auto > div:nth-child(1)\").text\n",
    "    except:\n",
    "        v2 = np.nan\n",
    "    # 설명\n",
    "    try:\n",
    "        try:\n",
    "            v3 = driver.find_element(By.CSS_SELECTOR,\"#detailProductId1 > div:nth-child(2) > div > div > div > div > p\").text\n",
    "        except:\n",
    "            v3 = driver.find_element(By.CSS_SELECTOR,\"#detailProductId1 > div:nth-child(3) > div > div > div > div > p\").text\n",
    "    except:\n",
    "        v3 = np.nan\n",
    "    # 제품그룹\n",
    "    try:\n",
    "        v4 = driver.find_element(By.CSS_SELECTOR,\"#detailProductId1 > div:nth-child(3) > div > div > div > div > ul\").text.split(\"\\n\")\n",
    "    except:\n",
    "        try:\n",
    "            v4 = driver.find_element(By.CSS_SELECTOR,\"#detailProductId1 > div:nth-child(2) > div > div > div > div > ul\").text.split(\"\\n\")\n",
    "        except:\n",
    "            v4 = np.nan\n",
    "\n",
    "    # 제조사명\n",
    "    v5 = driver.find_element(By.CSS_SELECTOR,\"#tabs-top > div.tabs-track > div > div.is-active > div > div > div:nth-child(1) > h2\").text\n",
    "    try:\n",
    "        v6 = driver.find_element(By.CSS_SELECTOR,\"#detailProductId1 > div:nth-child(3) > div > div > div > div > a\").get_attribute('href')\n",
    "    except:\n",
    "        v6 = np.nan\n",
    "\n",
    "    v1_list.append(v1)\n",
    "    v2_list.append(v2)\n",
    "    v3_list.append(v3)\n",
    "    v4_list.append(v4)\n",
    "    v5_list.append(v5)\n",
    "    v6_list.append(v6)"
   ]
  },
  {
   "cell_type": "code",
   "execution_count": 82,
   "metadata": {},
   "outputs": [],
   "source": [
    "df = pd.DataFrame({\"v1\":v1_list,\n",
    "            \"v2\":v2_list,\n",
    "            \"v3\":v3_list,\n",
    "            \"v4\":v4_list,\n",
    "            \"v5\":v5_list,\n",
    "            \"v6\":v6_list,\n",
    "            \"v7\":prd_link_list})"
   ]
  },
  {
   "cell_type": "code",
   "execution_count": 84,
   "metadata": {},
   "outputs": [],
   "source": [
    "df.to_csv(\"prd_crawl.csv\")"
   ]
  },
  {
   "cell_type": "code",
   "execution_count": null,
   "metadata": {},
   "outputs": [],
   "source": []
  }
 ],
 "metadata": {
  "kernelspec": {
   "display_name": "Python 3.9.12 ('base')",
   "language": "python",
   "name": "python3"
  },
  "language_info": {
   "codemirror_mode": {
    "name": "ipython",
    "version": 3
   },
   "file_extension": ".py",
   "mimetype": "text/x-python",
   "name": "python",
   "nbconvert_exporter": "python",
   "pygments_lexer": "ipython3",
   "version": "3.9.12"
  },
  "orig_nbformat": 4,
  "vscode": {
   "interpreter": {
    "hash": "ad2bdc8ecc057115af97d19610ffacc2b4e99fae6737bb82f5d7fb13d2f2c186"
   }
  }
 },
 "nbformat": 4,
 "nbformat_minor": 2
}

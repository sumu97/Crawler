{
 "cells": [
  {
   "cell_type": "markdown",
   "metadata": {},
   "source": [
    "# Interschulz Crawl"
   ]
  },
  {
   "cell_type": "markdown",
   "metadata": {},
   "source": [
    "셀레니움 설치"
   ]
  },
  {
   "cell_type": "code",
   "execution_count": null,
   "metadata": {},
   "outputs": [],
   "source": [
    "pip install selenium"
   ]
  },
  {
   "cell_type": "markdown",
   "metadata": {},
   "source": [
    "제품 & 기업 페이지 1page 부터 201page까지 html만 soup해서 리스트에 저장"
   ]
  },
  {
   "cell_type": "code",
   "execution_count": null,
   "metadata": {},
   "outputs": [
    {
     "name": "stderr",
     "output_type": "stream",
     "text": [
      "<ipython-input-3-a5b14c13f463>:12: DeprecationWarning: executable_path has been deprecated, please pass in a Service object\n",
      "  driver = webdriver.Chrome(chromedriver,chrome_options=chrome_options)\n",
      "<ipython-input-3-a5b14c13f463>:12: DeprecationWarning: use options instead of chrome_options\n",
      "  driver = webdriver.Chrome(chromedriver,chrome_options=chrome_options)\n"
     ]
    }
   ],
   "source": [
    "from selenium import webdriver\n",
    "from selenium.webdriver.common.action_chains import ActionChains\n",
    "from selenium.webdriver.common.by import By\n",
    "import time\n",
    "from bs4 import BeautifulSoup\n",
    "from tqdm import tqdm\n",
    "\n",
    "# 속도 향상을 위한 이미지 로딩 제거\n",
    "chromedriver = 'C:\\Code\\Webdriver\\chromedriver.exe' # 크롬드라이버 경로\n",
    "chrome_options = webdriver.ChromeOptions()\n",
    "prefs = {\"profile.managed_default_content_settings.images\": 2}\n",
    "chrome_options.add_experimental_option(\"prefs\", prefs)\n",
    "driver = webdriver.Chrome(chromedriver,chrome_options=chrome_options)\n",
    "\n",
    "action = ActionChains(driver)\n",
    "# 쿠키 없이 들어가면 아무정보도 안뜸\n",
    "driver.get('https://www.interschutz.de/en/')\n",
    "time.sleep(1)\n",
    "\n",
    "driver.get('https://www.interschutz.de/en/search/?category=ep') # 배너클릭해서 들어가는것보다 그냥 집어넣어주는게 효율적이고 쉬움\n",
    "\n",
    "soup_list = []\n",
    "for i in tqdm(range(202-1)):\n",
    "    html = driver.page_source\n",
    "    soup = BeautifulSoup(html, 'html.parser')\n",
    "    soup_list.append(soup)\n",
    "    bottom = driver.find_element(By.CSS_SELECTOR,\"#app > div.flex-container.flex-dir-column.fullheight > div.flex-child-shrink > section.c.footer.is-dark.module-theme-400\")\n",
    "    action.move_to_element(bottom).perform()\n",
    "\n",
    "    # Selector를 뭘 쓰느냐에 따라서 소요시간이 달라짐 ex) Xpath가 찾는데 쥰내오래걸림\n",
    "    try:\n",
    "        driver.find_element(By.CSS_SELECTOR,'#search-results-reveal > div > div.reveal-master > div > div > div.cell.search-results-list.medium-8 > section > div > div.grid-x.search-snippet-list-footer > div:nth-child(2) > section > a:nth-child(8)').click()\n",
    "    except:\n",
    "        driver.find_element(By.CSS_SELECTOR,'#search-results-reveal > div > div.reveal-master > div > div > div.cell.search-results-list.medium-8 > section > div > div.grid-x.search-snippet-list-footer > div:nth-child(2) > section > a:nth-child(7)').click()\n",
    "    time.sleep(1)\n",
    "\n",
    "driver.quit()"
   ]
  },
  {
   "cell_type": "markdown",
   "metadata": {},
   "source": [
    "저장된 soup에서 제품만 분리, 페이지 URL 추출"
   ]
  },
  {
   "cell_type": "code",
   "execution_count": 4,
   "metadata": {},
   "outputs": [
    {
     "name": "stderr",
     "output_type": "stream",
     "text": [
      " 15%|█▌        | 411/2668 [06:08<39:16,  1.04s/it] "
     ]
    }
   ],
   "source": [
    "link_list = []\n",
    "for i in soup_list:\n",
    "    temp_list = i.find_all('a','o link as-block fx dropshadow for-child')\n",
    "    for l in temp_list:\n",
    "        link_list.append(l.attrs['href'])\n",
    "\n",
    "prd_link_list = []\n",
    "for i in link_list:\n",
    "    switch = i.split(\"/\")[1]\n",
    "    if switch == 'product':\n",
    "        prd_link_list.append(i)\n",
    "\n",
    "import requests\n",
    "import pandas as pd\n",
    "from tqdm import tqdm\n",
    "\n",
    "prd_soup_list = [] # 제품만 긁어도 됨\n",
    "prd_full_list = []\n",
    "\n",
    "base_url = \"https://www.interschutz.de/\"\n",
    "\n",
    "for i in tqdm(prd_link_list):\n",
    "    switch = i.split(\"/\")[1]\n",
    "    response = requests.get(base_url+i)\n",
    "    prd_full_list.append(base_url+i)\n",
    "    html = response.text\n",
    "    soup = BeautifulSoup(html, \"html.parser\")\n",
    "    prd_soup_list.append(soup)\n",
    "\n"
   ]
  },
  {
   "cell_type": "markdown",
   "metadata": {},
   "source": [
    "저장된 페이지 URL에 접속해 크롤링 데이터 수집"
   ]
  },
  {
   "cell_type": "code",
   "execution_count": null,
   "metadata": {},
   "outputs": [
    {
     "name": "stderr",
     "output_type": "stream",
     "text": [
      "<ipython-input-153-c3e9526b4492>:13: DeprecationWarning: executable_path has been deprecated, please pass in a Service object\n",
      "  driver = webdriver.Chrome(chromedriver,chrome_options=chrome_options)\n",
      "<ipython-input-153-c3e9526b4492>:13: DeprecationWarning: use options instead of chrome_options\n",
      "  driver = webdriver.Chrome(chromedriver,chrome_options=chrome_options)\n",
      "100%|██████████| 2668/2668 [1:36:17<00:00,  2.17s/it]\n"
     ]
    }
   ],
   "source": [
    "from selenium import webdriver\n",
    "from selenium.webdriver.common.action_chains import ActionChains\n",
    "from selenium.webdriver.common.by import By\n",
    "import time\n",
    "import numpy as np\n",
    "from tqdm import tqdm\n",
    "from bs4 import BeautifulSoup\n",
    "# 속도 향상을 위한 이미지 로딩 제거\n",
    "chromedriver = 'C:\\Code\\Webdriver\\chromedriver.exe'\n",
    "chrome_options = webdriver.ChromeOptions()\n",
    "prefs = {\"profile.managed_default_content_settings.images\": 2}\n",
    "chrome_options.add_experimental_option(\"prefs\", prefs)\n",
    "driver = webdriver.Chrome(chromedriver,chrome_options=chrome_options)\n",
    "action = ActionChains(driver)\n",
    "\n",
    "v1_list = []\n",
    "v2_list = []\n",
    "v3_list = []\n",
    "v4_list = []\n",
    "v5_list = []\n",
    "v6_list = []\n",
    "\n",
    "base_url = \"https://www.interschutz.de/\"\n",
    "\n",
    "for i in tqdm(prd_link_list):\n",
    "    url = base_url+i\n",
    "    # URL 접속\n",
    "    driver.get(url)\n",
    "\n",
    "    # 제품명\n",
    "    try:\n",
    "        v1 = driver.find_element(By.CSS_SELECTOR,\"#app > div.flex-container.flex-dir-column.fullheight > div.flex-child-grow > div > header > div > div > div.cell.small-12.page-intro-content.medium-10.large-9 > div.t.set-800-bold > h1\").text\n",
    "    except:\n",
    "        v1 = np.nan\n",
    "    # 제조사\n",
    "    try:\n",
    "        v2 = driver.find_element(By.CSS_SELECTOR,\"#app > div.flex-container.flex-dir-column.fullheight > div.flex-child-grow > div > header > div > div > div.cell.small-12.page-intro-content.medium-10.large-9 > div.page-intro-description.with-function-bar > div.grid-x.grid-padding-x > div.cell.auto > div:nth-child(1)\").text\n",
    "    except:\n",
    "        v2 = np.nan\n",
    "    # 설명\n",
    "    try:\n",
    "        try:\n",
    "            v3 = driver.find_element(By.CSS_SELECTOR,\"#detailProductId1 > div:nth-child(2) > div > div > div > div > p\").text\n",
    "        except:\n",
    "            v3 = driver.find_element(By.CSS_SELECTOR,\"#detailProductId1 > div:nth-child(3) > div > div > div > div > p\").text\n",
    "    except:\n",
    "        v3 = np.nan\n",
    "    # 제품그룹\n",
    "    try:\n",
    "        v4 = driver.find_element(By.CSS_SELECTOR,\"#detailProductId1 > div:nth-child(3) > div > div > div > div > ul\").text.split(\"\\n\")\n",
    "    except:\n",
    "        try:\n",
    "            v4 = driver.find_element(By.CSS_SELECTOR,\"#detailProductId1 > div:nth-child(2) > div > div > div > div > ul\").text.split(\"\\n\")\n",
    "        except:\n",
    "            v4 = np.nan\n",
    "\n",
    "    # 제조사명\n",
    "    v5 = driver.find_element(By.CSS_SELECTOR,\"#tabs-top > div.tabs-track > div > div.is-active > div > div > div:nth-child(1) > h2\").text\n",
    "    try:\n",
    "        v6 = driver.find_element(By.CSS_SELECTOR,\"#detailProductId1 > div:nth-child(3) > div > div > div > div > a\").get_attribute('href')\n",
    "    except:\n",
    "        v6 = np.nan\n",
    "\n",
    "    v1_list.append(v1)\n",
    "    v2_list.append(v2)\n",
    "    v3_list.append(v3)\n",
    "    v4_list.append(v4)\n",
    "    v5_list.append(v5)\n",
    "    v6_list.append(v6)\n",
    "        \n",
    "driver.quit()"
   ]
  },
  {
   "cell_type": "markdown",
   "metadata": {},
   "source": [
    "저장"
   ]
  },
  {
   "cell_type": "code",
   "execution_count": null,
   "metadata": {},
   "outputs": [],
   "source": [
    "df = pd.DataFrame({\"v1\":v1_list,\n",
    "            \"v2\":v2_list,\n",
    "            \"v3\":v3_list,\n",
    "            \"v4\":v4_list,\n",
    "            \"v5\":v5_list,\n",
    "            \"v6\":v6_list,\n",
    "            \"v7\":prd_full_list})\n",
    "\n",
    "df.to_csv(\"prd_crawl.csv\")"
   ]
  },
  {
   "cell_type": "markdown",
   "metadata": {},
   "source": [
    "# Test before iteration"
   ]
  },
  {
   "cell_type": "code",
   "execution_count": null,
   "metadata": {},
   "outputs": [
    {
     "name": "stderr",
     "output_type": "stream",
     "text": [
      "<ipython-input-149-5f4d3ba220c5>:13: DeprecationWarning: executable_path has been deprecated, please pass in a Service object\n",
      "  driver = webdriver.Chrome(chromedriver,chrome_options=chrome_options)\n",
      "<ipython-input-149-5f4d3ba220c5>:13: DeprecationWarning: use options instead of chrome_options\n",
      "  driver = webdriver.Chrome(chromedriver,chrome_options=chrome_options)\n"
     ]
    }
   ],
   "source": [
    "from selenium import webdriver\n",
    "from selenium.webdriver.common.action_chains import ActionChains\n",
    "from selenium.webdriver.common.by import By\n",
    "import time\n",
    "from tqdm import tqdm\n",
    "from bs4 import BeautifulSoup\n",
    "import numpy as np\n",
    "# 속도 향상을 위한 이미지 로딩 제거\n",
    "chromedriver = 'C:\\Code\\Webdriver\\chromedriver.exe'\n",
    "chrome_options = webdriver.ChromeOptions()\n",
    "prefs = {\"profile.managed_default_content_settings.images\": 2}\n",
    "chrome_options.add_experimental_option(\"prefs\", prefs)\n",
    "driver = webdriver.Chrome(chromedriver,chrome_options=chrome_options)\n",
    "action = ActionChains(driver)\n",
    "\n",
    "v1_list = []\n",
    "v2_list = []\n",
    "v3_list = []\n",
    "v4_list = []\n",
    "v5_list = []\n",
    "v6_list = []\n",
    "\n",
    "base_url = \"https://www.interschutz.de/\"\n",
    "url = base_url+i\n",
    "url = \"https://www.interschutz.de//product/ai-fire-smoke-sensing-network-camera/308581/N1486168\"\n",
    "url = \"https://www.interschutz.de//product/deck-integrated-fire-fighting-systems/296646/N1423333\"\n",
    "# URL 접속\n",
    "driver.get(url)\n",
    "\n",
    "# 제품명\n",
    "v1 = driver.find_element(By.CSS_SELECTOR,\"#app > div.flex-container.flex-dir-column.fullheight > div.flex-child-grow > div > header > div > div > div.cell.small-12.page-intro-content.medium-10.large-9 > div.t.set-800-bold > h1\").text\n",
    "\n",
    "# 제조사\n",
    "v2 = driver.find_element(By.CSS_SELECTOR,\"#app > div.flex-container.flex-dir-column.fullheight > div.flex-child-grow > div > header > div > div > div.cell.small-12.page-intro-content.medium-10.large-9 > div.page-intro-description.with-function-bar > div.grid-x.grid-padding-x > div.cell.auto > div:nth-child(1)\").text\n",
    "\n",
    "# 설명\n",
    "try:\n",
    "    try:\n",
    "        v3 = driver.find_element(By.CSS_SELECTOR,\"#detailProductId1 > div:nth-child(2) > div > div > div > div > p\").text\n",
    "    except:\n",
    "        v3 = driver.find_element(By.CSS_SELECTOR,\"#detailProductId1 > div:nth-child(3) > div > div > div > div > p\").text\n",
    "except:\n",
    "    v3 = np.nan\n",
    "# 제품그룹\n",
    "try:\n",
    "    v4 = driver.find_element(By.CSS_SELECTOR,\"#detailProductId1 > div:nth-child(3) > div > div > div > div > ul\").text.split(\"\\n\")\n",
    "except:\n",
    "    try:\n",
    "        v4 = driver.find_element(By.CSS_SELECTOR,\"#detailProductId1 > div:nth-child(2) > div > div > div > div > ul\").text.split(\"\\n\")\n",
    "    except:\n",
    "        v4 = np.nan\n",
    "\n",
    "# 제조사명\n",
    "v5 = driver.find_element(By.CSS_SELECTOR,\"#tabs-top > div.tabs-track > div > div.is-active > div > div > div:nth-child(1) > h2\").text\n",
    "try:\n",
    "    v6 = driver.find_element(By.CSS_SELECTOR,\"#detailProductId1 > div:nth-child(3) > div > div > div > div > a\").get_attribute('href')\n",
    "except:\n",
    "    v6 = np.nan\n",
    "\n",
    "v1_list.append(v1)\n",
    "v2_list.append(v2)\n",
    "v3_list.append(v3)\n",
    "v4_list.append(v4)\n",
    "v5_list.append(v5)\n",
    "v6_list.append(v6)\n"
   ]
  }
 ],
 "metadata": {
  "interpreter": {
   "hash": "431846b6cf212e2423c250485b61d3759fbd212b478ce3ed01e213b0ce87be65"
  },
  "kernelspec": {
   "display_name": "Python 3.8.8 ('base')",
   "language": "python",
   "name": "python3"
  },
  "language_info": {
   "codemirror_mode": {
    "name": "ipython",
    "version": 3
   },
   "file_extension": ".py",
   "mimetype": "text/x-python",
   "name": "python",
   "nbconvert_exporter": "python",
   "pygments_lexer": "ipython3",
   "version": "3.8.8"
  },
  "orig_nbformat": 4
 },
 "nbformat": 4,
 "nbformat_minor": 2
}

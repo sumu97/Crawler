{
 "cells": [
  {
   "cell_type": "markdown",
   "metadata": {},
   "source": [
    "# Geo Coding"
   ]
  },
  {
   "cell_type": "markdown",
   "metadata": {},
   "source": [
    "## 구글 스프레드 시트가 짱이다 이말이야"
   ]
  },
  {
   "cell_type": "code",
   "execution_count": 3,
   "metadata": {},
   "outputs": [
    {
     "name": "stdout",
     "output_type": "stream",
     "text": [
      "Collecting pip==18.1\n",
      "  Downloading pip-18.1-py2.py3-none-any.whl (1.3 MB)\n",
      "     ---------------------------------------- 1.3/1.3 MB 9.4 MB/s eta 0:00:00\n",
      "Installing collected packages: pip\n",
      "  Attempting uninstall: pip\n",
      "    Found existing installation: pip 22.2.1\n",
      "    Uninstalling pip-22.2.1:\n",
      "      Successfully uninstalled pip-22.2.1\n",
      "Successfully installed pip-18.1\n",
      "Note: you may need to restart the kernel to use updated packages.\n"
     ]
    }
   ],
   "source": [
    "pip install pip==18.1"
   ]
  },
  {
   "cell_type": "code",
   "execution_count": 9,
   "metadata": {},
   "outputs": [
    {
     "name": "stdout",
     "output_type": "stream",
     "text": [
      "Requirement already satisfied: pip in c:\\users\\user\\appdata\\local\\programs\\python\\python310\\lib\\site-packages (22.1.2)\n",
      "Collecting pip\n",
      "  Downloading pip-22.2.1-py3-none-any.whl (2.0 MB)\n",
      "     ---------------------------------------- 2.0/2.0 MB 9.3 MB/s eta 0:00:00\n",
      "Installing collected packages: pip\n",
      "  Attempting uninstall: pip\n",
      "    Found existing installation: pip 22.1.2\n",
      "    Uninstalling pip-22.1.2:\n",
      "      Successfully uninstalled pip-22.1.2\n",
      "Successfully installed pip-22.2.1\n",
      "Note: you may need to restart the kernel to use updated packages.\n"
     ]
    }
   ],
   "source": [
    "pip install --upgrade pip"
   ]
  },
  {
   "cell_type": "code",
   "execution_count": 1,
   "metadata": {},
   "outputs": [
    {
     "name": "stdout",
     "output_type": "stream",
     "text": [
      "Requirement already satisfied: geopy in c:\\users\\user\\appdata\\local\\programs\\python\\python310\\lib\\site-packages (2.2.0)\n",
      "Requirement already satisfied: geographiclib<2,>=1.49 in c:\\users\\user\\appdata\\local\\programs\\python\\python310\\lib\\site-packages (from geopy) (1.52)\n",
      "Note: you may need to restart the kernel to use updated packages.\n"
     ]
    }
   ],
   "source": [
    "pip install geopy"
   ]
  },
  {
   "cell_type": "code",
   "execution_count": 5,
   "metadata": {},
   "outputs": [
    {
     "name": "stdout",
     "output_type": "stream",
     "text": [
      "Note: you may need to restart the kernel to use updated packages.\n"
     ]
    },
    {
     "name": "stderr",
     "output_type": "stream",
     "text": [
      "Traceback (most recent call last):\n",
      "  File \"c:\\Users\\user\\AppData\\Local\\Programs\\Python\\Python310\\lib\\runpy.py\", line 196, in _run_module_as_main\n",
      "    return _run_code(code, main_globals, None,\n",
      "  File \"c:\\Users\\user\\AppData\\Local\\Programs\\Python\\Python310\\lib\\runpy.py\", line 86, in _run_code\n",
      "    exec(code, run_globals)\n",
      "  File \"c:\\Users\\user\\AppData\\Local\\Programs\\Python\\Python310\\lib\\site-packages\\pip\\__main__.py\", line 16, in <module>\n",
      "    from pip._internal import main as _main  # isort:skip # noqa\n",
      "  File \"c:\\Users\\user\\AppData\\Local\\Programs\\Python\\Python310\\lib\\site-packages\\pip\\_internal\\__init__.py\", line 40, in <module>\n",
      "    from pip._internal.cli.autocompletion import autocomplete\n",
      "  File \"c:\\Users\\user\\AppData\\Local\\Programs\\Python\\Python310\\lib\\site-packages\\pip\\_internal\\cli\\autocompletion.py\", line 8, in <module>\n",
      "    from pip._internal.cli.main_parser import create_main_parser\n",
      "  File \"c:\\Users\\user\\AppData\\Local\\Programs\\Python\\Python310\\lib\\site-packages\\pip\\_internal\\cli\\main_parser.py\", line 12, in <module>\n",
      "    from pip._internal.commands import (\n",
      "  File \"c:\\Users\\user\\AppData\\Local\\Programs\\Python\\Python310\\lib\\site-packages\\pip\\_internal\\commands\\__init__.py\", line 6, in <module>\n",
      "    from pip._internal.commands.completion import CompletionCommand\n",
      "  File \"c:\\Users\\user\\AppData\\Local\\Programs\\Python\\Python310\\lib\\site-packages\\pip\\_internal\\commands\\completion.py\", line 6, in <module>\n",
      "    from pip._internal.cli.base_command import Command\n",
      "  File \"c:\\Users\\user\\AppData\\Local\\Programs\\Python\\Python310\\lib\\site-packages\\pip\\_internal\\cli\\base_command.py\", line 23, in <module>\n",
      "    from pip._internal.index import PackageFinder\n",
      "  File \"c:\\Users\\user\\AppData\\Local\\Programs\\Python\\Python310\\lib\\site-packages\\pip\\_internal\\index.py\", line 14, in <module>\n",
      "    from pip._vendor import html5lib, requests, six\n",
      "  File \"c:\\Users\\user\\AppData\\Local\\Programs\\Python\\Python310\\lib\\site-packages\\pip\\_vendor\\html5lib\\__init__.py\", line 25, in <module>\n",
      "    from .html5parser import HTMLParser, parse, parseFragment\n",
      "  File \"c:\\Users\\user\\AppData\\Local\\Programs\\Python\\Python310\\lib\\site-packages\\pip\\_vendor\\html5lib\\html5parser.py\", line 8, in <module>\n",
      "    from . import _tokenizer\n",
      "  File \"c:\\Users\\user\\AppData\\Local\\Programs\\Python\\Python310\\lib\\site-packages\\pip\\_vendor\\html5lib\\_tokenizer.py\", line 16, in <module>\n",
      "    from ._trie import Trie\n",
      "  File \"c:\\Users\\user\\AppData\\Local\\Programs\\Python\\Python310\\lib\\site-packages\\pip\\_vendor\\html5lib\\_trie\\__init__.py\", line 3, in <module>\n",
      "    from .py import Trie as PyTrie\n",
      "  File \"c:\\Users\\user\\AppData\\Local\\Programs\\Python\\Python310\\lib\\site-packages\\pip\\_vendor\\html5lib\\_trie\\py.py\", line 6, in <module>\n",
      "    from ._base import Trie as ABCTrie\n",
      "  File \"c:\\Users\\user\\AppData\\Local\\Programs\\Python\\Python310\\lib\\site-packages\\pip\\_vendor\\html5lib\\_trie\\_base.py\", line 3, in <module>\n",
      "    from collections import Mapping\n",
      "ImportError: cannot import name 'Mapping' from 'collections' (c:\\Users\\user\\AppData\\Local\\Programs\\Python\\Python310\\lib\\collections\\__init__.py)\n"
     ]
    }
   ],
   "source": [
    "pip install shapely --no-binary shapely"
   ]
  },
  {
   "cell_type": "code",
   "execution_count": 3,
   "metadata": {},
   "outputs": [
    {
     "name": "stdout",
     "output_type": "stream",
     "text": [
      "Note: you may need to restart the kernel to use updated packages.\n"
     ]
    },
    {
     "name": "stderr",
     "output_type": "stream",
     "text": [
      "Traceback (most recent call last):\n",
      "  File \"c:\\Users\\user\\AppData\\Local\\Programs\\Python\\Python310\\lib\\runpy.py\", line 196, in _run_module_as_main\n",
      "    return _run_code(code, main_globals, None,\n",
      "  File \"c:\\Users\\user\\AppData\\Local\\Programs\\Python\\Python310\\lib\\runpy.py\", line 86, in _run_code\n",
      "    exec(code, run_globals)\n",
      "  File \"c:\\Users\\user\\AppData\\Local\\Programs\\Python\\Python310\\lib\\site-packages\\pip\\__main__.py\", line 16, in <module>\n",
      "    from pip._internal import main as _main  # isort:skip # noqa\n",
      "  File \"c:\\Users\\user\\AppData\\Local\\Programs\\Python\\Python310\\lib\\site-packages\\pip\\_internal\\__init__.py\", line 40, in <module>\n",
      "    from pip._internal.cli.autocompletion import autocomplete\n",
      "  File \"c:\\Users\\user\\AppData\\Local\\Programs\\Python\\Python310\\lib\\site-packages\\pip\\_internal\\cli\\autocompletion.py\", line 8, in <module>\n",
      "    from pip._internal.cli.main_parser import create_main_parser\n",
      "  File \"c:\\Users\\user\\AppData\\Local\\Programs\\Python\\Python310\\lib\\site-packages\\pip\\_internal\\cli\\main_parser.py\", line 12, in <module>\n",
      "    from pip._internal.commands import (\n",
      "  File \"c:\\Users\\user\\AppData\\Local\\Programs\\Python\\Python310\\lib\\site-packages\\pip\\_internal\\commands\\__init__.py\", line 6, in <module>\n",
      "    from pip._internal.commands.completion import CompletionCommand\n",
      "  File \"c:\\Users\\user\\AppData\\Local\\Programs\\Python\\Python310\\lib\\site-packages\\pip\\_internal\\commands\\completion.py\", line 6, in <module>\n",
      "    from pip._internal.cli.base_command import Command\n",
      "  File \"c:\\Users\\user\\AppData\\Local\\Programs\\Python\\Python310\\lib\\site-packages\\pip\\_internal\\cli\\base_command.py\", line 23, in <module>\n",
      "    from pip._internal.index import PackageFinder\n",
      "  File \"c:\\Users\\user\\AppData\\Local\\Programs\\Python\\Python310\\lib\\site-packages\\pip\\_internal\\index.py\", line 14, in <module>\n",
      "    from pip._vendor import html5lib, requests, six\n",
      "  File \"c:\\Users\\user\\AppData\\Local\\Programs\\Python\\Python310\\lib\\site-packages\\pip\\_vendor\\html5lib\\__init__.py\", line 25, in <module>\n",
      "    from .html5parser import HTMLParser, parse, parseFragment\n",
      "  File \"c:\\Users\\user\\AppData\\Local\\Programs\\Python\\Python310\\lib\\site-packages\\pip\\_vendor\\html5lib\\html5parser.py\", line 8, in <module>\n",
      "    from . import _tokenizer\n",
      "  File \"c:\\Users\\user\\AppData\\Local\\Programs\\Python\\Python310\\lib\\site-packages\\pip\\_vendor\\html5lib\\_tokenizer.py\", line 16, in <module>\n",
      "    from ._trie import Trie\n",
      "  File \"c:\\Users\\user\\AppData\\Local\\Programs\\Python\\Python310\\lib\\site-packages\\pip\\_vendor\\html5lib\\_trie\\__init__.py\", line 3, in <module>\n",
      "    from .py import Trie as PyTrie\n",
      "  File \"c:\\Users\\user\\AppData\\Local\\Programs\\Python\\Python310\\lib\\site-packages\\pip\\_vendor\\html5lib\\_trie\\py.py\", line 6, in <module>\n",
      "    from ._base import Trie as ABCTrie\n",
      "  File \"c:\\Users\\user\\AppData\\Local\\Programs\\Python\\Python310\\lib\\site-packages\\pip\\_vendor\\html5lib\\_trie\\_base.py\", line 3, in <module>\n",
      "    from collections import Mapping\n",
      "ImportError: cannot import name 'Mapping' from 'collections' (c:\\Users\\user\\AppData\\Local\\Programs\\Python\\Python310\\lib\\collections\\__init__.py)\n"
     ]
    }
   ],
   "source": [
    "pip install osmnx"
   ]
  },
  {
   "cell_type": "code",
   "execution_count": 2,
   "metadata": {},
   "outputs": [
    {
     "ename": "ModuleNotFoundError",
     "evalue": "No module named 'osmnx'",
     "output_type": "error",
     "traceback": [
      "\u001b[1;31m---------------------------------------------------------------------------\u001b[0m",
      "\u001b[1;31mModuleNotFoundError\u001b[0m                       Traceback (most recent call last)",
      "\u001b[1;32mc:\\Users\\user\\Documents\\Code\\crawl\\Geocoding.ipynb 셀 6\u001b[0m in \u001b[0;36m<cell line: 2>\u001b[1;34m()\u001b[0m\n\u001b[0;32m      <a href='vscode-notebook-cell:/c%3A/Users/user/Documents/Code/crawl/Geocoding.ipynb#ch0000000?line=0'>1</a>\u001b[0m \u001b[39mfrom\u001b[39;00m \u001b[39mgeopy\u001b[39;00m\u001b[39m.\u001b[39;00m\u001b[39mgeocoders\u001b[39;00m \u001b[39mimport\u001b[39;00m Nominatim\n\u001b[1;32m----> <a href='vscode-notebook-cell:/c%3A/Users/user/Documents/Code/crawl/Geocoding.ipynb#ch0000000?line=1'>2</a>\u001b[0m \u001b[39mimport\u001b[39;00m \u001b[39mosmnx\u001b[39;00m \u001b[39mas\u001b[39;00m \u001b[39mox\u001b[39;00m\n",
      "\u001b[1;31mModuleNotFoundError\u001b[0m: No module named 'osmnx'"
     ]
    }
   ],
   "source": [
    "from geopy.geocoders import Nominatim\n",
    "import osmnx as ox "
   ]
  },
  {
   "cell_type": "code",
   "execution_count": null,
   "metadata": {},
   "outputs": [],
   "source": []
  }
 ],
 "metadata": {
  "kernelspec": {
   "display_name": "Python 3.10.5 64-bit",
   "language": "python",
   "name": "python3"
  },
  "language_info": {
   "codemirror_mode": {
    "name": "ipython",
    "version": 3
   },
   "file_extension": ".py",
   "mimetype": "text/x-python",
   "name": "python",
   "nbconvert_exporter": "python",
   "pygments_lexer": "ipython3",
   "version": "3.10.5"
  },
  "orig_nbformat": 4,
  "vscode": {
   "interpreter": {
    "hash": "fb4569285eef3a3450cb62085a5b1e0da4bce0af555edc33dcf29baf3acc1368"
   }
  }
 },
 "nbformat": 4,
 "nbformat_minor": 2
}
